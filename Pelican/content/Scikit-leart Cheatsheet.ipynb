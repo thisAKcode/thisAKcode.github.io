{
 "cells": [
  {
   "cell_type": "markdown",
   "id": "efa875f2",
   "metadata": {},
   "source": [
    "- title: Scikit-Learn Chunks\n",
    "- author: Alex\n",
    "- date: 2023-09-08\n",
    "- category: python"
   ]
  },
  {
   "cell_type": "markdown",
   "id": "a586e40e",
   "metadata": {},
   "source": [
    "### Intro\n",
    "I love scikit-learn because it is the first library that I used to learn machine learning and "
   ]
  },
  {
   "cell_type": "markdown",
   "id": "a711731b",
   "metadata": {},
   "source": [
    "https://www.codecademy.com/courses/machine-learning-introduction-with-regression/articles/scikit-learn-cheatsheet"
   ]
  }
 ],
 "metadata": {
  "kernelspec": {
   "display_name": "Python 3",
   "language": "python",
   "name": "python3"
  },
  "language_info": {
   "codemirror_mode": {
    "name": "ipython",
    "version": 3
   },
   "file_extension": ".py",
   "mimetype": "text/x-python",
   "name": "python",
   "nbconvert_exporter": "python",
   "pygments_lexer": "ipython3",
   "version": "3.7.3"
  }
 },
 "nbformat": 4,
 "nbformat_minor": 5
}
