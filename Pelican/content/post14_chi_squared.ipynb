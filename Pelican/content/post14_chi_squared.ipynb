{
 "cells": [
  {
   "cell_type": "markdown",
   "metadata": {},
   "source": [
    "- title: Chi-Square Test\n",
    "- author: Alex\n",
    "- date: 2022-05-05\n",
    "- category: stats\n",
    "- tags: jupyter"
   ]
  },
  {
   "cell_type": "markdown",
   "metadata": {},
   "source": [
    "###  Chi-Square Test\n",
    "\n",
    "When to use Chi-Squared test:\n",
    "    1. n discrete classes put into contingency table. \n",
    "Sal Khan’s video <https://www.youtube.com/watch?v=hpWdDmgsIRE&t=20s> demonstrates how to check whether two herbs are really helping a group of people to prevent the flu.\n",
    "\n",
    "You see a contingency table with total numbers at row and column margins.\n",
    "\n",
    "\n",
    "\n",
    "As per Null Hypothesis we assume that the herbs does nothing, alternativ Hypothesis is that it does something (increase/decrease a likelihood of getting the flu).\n",
    "We decide that a  significance level to care about is 5%."
   ]
  },
  {
   "cell_type": "code",
   "execution_count": 1,
   "metadata": {},
   "outputs": [],
   "source": [
    "from IPython.display import Image\n",
    "Image(r'C:\\thisAKcode.github.io\\Pelican\\content\\images\\chi_square.PNG',  width = 600)"
   ]
  },
  {
   "cell_type": "markdown",
   "metadata": {},
   "source": [
    "### To Do Calculate a chi-square statistic for the contingency table\n",
    "\n",
    "We first want to assuming the null hypothesis figure out what the expected value would have been. "
   ]
  },
  {
   "cell_type": "code",
   "execution_count": 2,
   "metadata": {},
   "outputs": [],
   "source": [
    "from IPython.display import Image\n",
    "Image(r'C:\\thisAKcode.github.io\\Pelican\\content\\images\\chi_sick.PNG',  width = 600)"
   ]
  },
  {
   "cell_type": "markdown",
   "metadata": {},
   "source": [
    "In the illustration above you can see `h1` stands for herb one, `h2` herb2, `p` is the placebo. Red/green colors is for healthy/seek outcome.\n",
    "\n",
    "\n",
    "### Chi-Squared Statistic\n",
    "Chi square test of independence allow in a relatively certain way checke whether the distribution within categories of V1 differs from one category to another of variable V2.\n",
    "\n",
    "$$\\chi^2 = \\sum \\frac {(O - E)^2}{E}$$"
   ]
  },
  {
   "cell_type": "code",
   "execution_count": 3,
   "metadata": {},
   "outputs": [],
   "source": [
    "import scipy"
   ]
  },
  {
   "cell_type": "markdown",
   "metadata": {},
   "source": [
    "François Husson takes a particular example to approach using chi-squared test. This example is about perception/attitude toward feminin work seen by women. \n",
    "\n",
    "see table below.\n",
    "\n",
    "\n",
    "\n",
    "|                        | rester au foyer | trav. a | trav. plein temps |\n",
    "|------------------------|-----------------|---------|-------------------|\n",
    "| 2 conj. tr. egalement  | 13              | 142     | 106               |\n",
    "| trav. mari + absorbant | 30              | 408     | 117               |\n",
    "| seul le mari trav.     | 241             | 573     | 94                |\n",
    "\n",
    "the code is almost completely unchanged pulled from [Introduction to Correspondence Analysis](https://codefying.com/2018/12/21/introduction-to-correspondence-analysis/)\n",
    "\n",
    "answer = '''\n",
    "rester au foyer,\n",
    "trav. a\tmi-temps,\n",
    "trav. plein temps,\n",
    "'''\n",
    "\n",
    "actual_role= '''\n",
    "2 conj. tr. egalement,\n",
    "trav. mari + absorbant,\n",
    "seul le mari trav.\n",
    "'''"
   ]
  },
  {
   "cell_type": "code",
   "execution_count": 5,
   "metadata": {},
   "outputs": [],
   "source": [
    "import numpy as np\n",
    "import pandas as pd\n",
    "from scipy.stats import chi2_contingency\n",
    "\n",
    "femin_in = np.array([[13, 142, 106], [30, 408, 117], [241, 573, 94]], np.int32)\n",
    "gt = np.sum(femin_in) # grand total\n",
    "corresp_mtx = np.divide(femin_in,gt)\n",
    "row_tot = np.sum(corresp_mtx, axis=1)  # right marginal\n",
    "column_tot = np.sum(corresp_mtx, axis=0)  # left marginal\n",
    "independence_model = np.outer(row_tot, column_tot)  # out[i, j] = a[i] * b[j]\n",
    "# [a[i]* b[j]]\n",
    "inde_dot = np.dot(gt, independence_model).round(decimals =1)\n",
    "# femin_in, 'corr matrix ', corresp_mtx, 'rowtot', row_tot, 'col_Tot', column_tot, 'inde_model', independence_model, 'indedot', inde_dot\n",
    "# continue from here https://pypi.org/project/prince/     Correspondence analysis (CA)\n",
    "answer = ['rester au foyer', 'trav. ami-temps', 'trav. plein temps']\n",
    "actual_role= ['2 conj. tr. egalement', 'trav. mari + absorbant', 'seul le mari trav.']\n",
    "df = pd.DataFrame(data=femin_in,\n",
    "                 columns=answer,\n",
    "                 index=actual_role)"
   ]
  },
  {
   "cell_type": "code",
   "execution_count": 7,
   "metadata": {},
   "outputs": [
    {
     "data": {
      "text/html": [
       "<div>\n",
       "<style scoped>\n",
       "    .dataframe tbody tr th:only-of-type {\n",
       "        vertical-align: middle;\n",
       "    }\n",
       "\n",
       "    .dataframe tbody tr th {\n",
       "        vertical-align: top;\n",
       "    }\n",
       "\n",
       "    .dataframe thead th {\n",
       "        text-align: right;\n",
       "    }\n",
       "</style>\n",
       "<table border=\"1\" class=\"dataframe\">\n",
       "  <thead>\n",
       "    <tr style=\"text-align: right;\">\n",
       "      <th></th>\n",
       "      <th>rester au foyer</th>\n",
       "      <th>trav. ami-temps</th>\n",
       "      <th>trav. plein temps</th>\n",
       "    </tr>\n",
       "  </thead>\n",
       "  <tbody>\n",
       "    <tr>\n",
       "      <th>2 conj. tr. egalement</th>\n",
       "      <td>13</td>\n",
       "      <td>142</td>\n",
       "      <td>106</td>\n",
       "    </tr>\n",
       "    <tr>\n",
       "      <th>trav. mari + absorbant</th>\n",
       "      <td>30</td>\n",
       "      <td>408</td>\n",
       "      <td>117</td>\n",
       "    </tr>\n",
       "    <tr>\n",
       "      <th>seul le mari trav.</th>\n",
       "      <td>241</td>\n",
       "      <td>573</td>\n",
       "      <td>94</td>\n",
       "    </tr>\n",
       "  </tbody>\n",
       "</table>\n",
       "</div>"
      ],
      "text/plain": [
       "                        rester au foyer  trav. ami-temps  trav. plein temps\n",
       "2 conj. tr. egalement                13              142                106\n",
       "trav. mari + absorbant               30              408                117\n",
       "seul le mari trav.                  241              573                 94"
      ]
     },
     "execution_count": 7,
     "metadata": {},
     "output_type": "execute_result"
    }
   ],
   "source": [
    "df"
   ]
  },
  {
   "cell_type": "markdown",
   "metadata": {},
   "source": [
    "Sources \n",
    "* http://wiki.gis.com/wiki/index.php/Goodness_of_fit"
   ]
  }
 ],
 "metadata": {
  "kernelspec": {
   "display_name": "Python 3",
   "language": "python",
   "name": "python3"
  },
  "language_info": {
   "codemirror_mode": {
    "name": "ipython",
    "version": 3
   },
   "file_extension": ".py",
   "mimetype": "text/x-python",
   "name": "python",
   "nbconvert_exporter": "python",
   "pygments_lexer": "ipython3",
   "version": "3.7.3"
  }
 },
 "nbformat": 4,
 "nbformat_minor": 2
}
