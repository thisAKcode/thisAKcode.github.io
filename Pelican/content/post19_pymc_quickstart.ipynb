{
 "cells": [
  {
   "cell_type": "markdown",
   "metadata": {},
   "source": [
    "- title: Jump In pymc\n",
    "- author: Alex\n",
    "- date: 2022-07-10\n",
    "- category: python"
   ]
  },
  {
   "cell_type": "markdown",
   "metadata": {},
   "source": [
    "### Install\n",
    "To simply install pymc was not enough on my computer, neither on Google Colab it worked to simply use library after `!pip install`. Apparently my laptop hadn't a working fortran of C compiler- the message that I got was:\n",
    "`Aesara will be unable to compile C-implementations and will default to Python. Performance may be severely degraded. To remove this warning, set Aesara flags cxx to an empty string.` \n",
    "\n",
    "To be able to run pymc on Windows I needed to use miniconda and then open up Anaconda Prompt and execute `conda install -c conda-forge pymc `. Installation took me 20 minutes."
   ]
  },
  {
   "cell_type": "markdown",
   "metadata": {},
   "source": [
    "### First example\n",
    "First code snippet is pulled from official documentation to the version of pymc, data was included in installation of pymc module:\n",
    "<https://www.pymc.io/projects/examples/en/latest/case_studies/log-gaussian-cox-process.html>"
   ]
  },
  {
   "cell_type": "code",
   "execution_count": 1,
   "metadata": {},
   "outputs": [
    {
     "name": "stderr",
     "output_type": "stream",
     "text": [
      "WARNING (aesara.configdefaults): g++ not available, if using conda: `conda install m2w64-toolchain`\n",
      "WARNING (aesara.configdefaults): g++ not detected!  Aesara will be unable to compile C-implementations and will default to Python. Performance may be severely degraded. To remove this warning, set Aesara flags cxx to an empty string.\n"
     ]
    },
    {
     "name": "stdout",
     "output_type": "stream",
     "text": [
      "Could not locate executable g77\n",
      "Could not locate executable f77\n",
      "Could not locate executable ifort\n",
      "Could not locate executable ifl\n",
      "Could not locate executable f90\n",
      "Could not locate executable DF\n",
      "Could not locate executable efl\n",
      "Could not locate executable gfortran\n",
      "Could not locate executable f95\n",
      "Could not locate executable g95\n",
      "Could not locate executable efort\n",
      "Could not locate executable efc\n",
      "Could not locate executable flang\n",
      "don't know how to compile Fortran code on platform 'nt'\n"
     ]
    },
    {
     "name": "stderr",
     "output_type": "stream",
     "text": [
      "WARNING (aesara.tensor.blas): Using NumPy C-API based implementation for BLAS functions.\n"
     ]
    },
    {
     "name": "stdout",
     "output_type": "stream",
     "text": [
      "       x    y  marks\n",
      "0     27    7      6\n",
      "1    197    5      4\n",
      "2     74   15      4\n",
      "3    214   18      6\n",
      "4    121   22      3\n",
      "..   ...  ...    ...\n",
      "226   28  160      3\n",
      "227  120  167      3\n",
      "228   22  178      7\n",
      "229  134  171      5\n",
      "230  230  172      4\n",
      "\n",
      "[231 rows x 3 columns]\n"
     ]
    }
   ],
   "source": [
    "import pymc as pm\n",
    "import pandas as pd\n",
    "from itertools import product\n",
    "\n",
    "import arviz as az\n",
    "data = pd.read_csv(pm.get_data(\"anemones.csv\"))\n",
    "n = data.shape[0]\n",
    "print(data)"
   ]
  },
  {
   "cell_type": "markdown",
   "metadata": {},
   "source": [
    "### Sources\n",
    "-article 1 <https://jakevdp.github.io/blog/2014/06/14/frequentism-and-bayesianism-4-bayesian-in-python/>\n",
    "-article 2 <https://github.com/CamDavidsonPilon/Probabilistic-Programming-and-Bayesian-Methods-for-Hackers>"
   ]
  },
  {
   "cell_type": "markdown",
   "metadata": {},
   "source": [
    "C:\\книги_питон\\Bayes' Theorem Examples_ A Visual Introduction For Beginners - Dan Morris & Mark Koning.pdf"
   ]
  }
 ],
 "metadata": {
  "kernelspec": {
   "display_name": "Python 3",
   "language": "python",
   "name": "python3"
  },
  "language_info": {
   "codemirror_mode": {
    "name": "ipython",
    "version": 3
   },
   "file_extension": ".py",
   "mimetype": "text/x-python",
   "name": "python",
   "nbconvert_exporter": "python",
   "pygments_lexer": "ipython3",
   "version": "3.7.3 (v3.7.3:ef4ec6ed12, Mar 25 2019, 22:22:05) [MSC v.1916 64 bit (AMD64)]"
  },
  "vscode": {
   "interpreter": {
    "hash": "5109d816b82be14675a6b11f8e0f0d2e80f029176ed3710d54e125caa8520dfd"
   }
  }
 },
 "nbformat": 4,
 "nbformat_minor": 2
}
