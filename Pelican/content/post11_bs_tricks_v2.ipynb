{
 "cells": [
  {
   "attachments": {},
   "cell_type": "markdown",
   "metadata": {},
   "source": [
    "title: Fun Beautiful Soup\n",
    "date: 2022-01-28 23:14\n",
    "author: Alex\n",
    "\n"
   ]
  },
  {
   "attachments": {},
   "cell_type": "markdown",
   "metadata": {},
   "source": [
    "###  How I Needed To Laugh Locally\n",
    "Be responsible when using some sources that qoutes content creators, otherwise bs4 library is the tool that can make your web scraping done easy.  \n",
    "### Shrotly About a Problem\n",
    "I once decided to extract some Steven Wright jokes from a web page here: <https://www.laughteronlineuniversity.com/steven-wright-quotes/>.\n",
    "In general you do the following:\n",
    "```python\n",
    "from bs4 import BeautifulSoup\n",
    "\n",
    "html = \"\"\"\n",
    "<table>\n",
    "  <thead>\n",
    "    <tr>\n",
    "      <th>Name</th>\n",
    "      <th>Age</th>\n",
    "      <th>City</th>\n",
    "    </tr>\n",
    "  </thead>\n",
    "  <tbody>\n",
    "    <tr>\n",
    "      <td>John Smith</td>\n",
    "      <td>35</td>\n",
    "      <td>New York</td>\n",
    "    </tr>\n",
    "    <tr>\n",
    "      <td>Jane Doe</td>\n",
    "      <td>27</td>\n",
    "      <td>Los Angeles</td>\n",
    "    </tr>\n",
    "  </tbody>\n",
    "</table>\n",
    "\"\"\"\n",
    "soup = BeautifulSoup(html, 'html.parser')\n",
    "tbody = soup.find('tbody')\n",
    "# output:\n",
    "'''\n",
    "<tbody>\n",
    "<tr>\n",
    "<td>John Smith</td>\n",
    "<td>35</td>\n",
    "<td>New York</td>\n",
    "</tr>\n",
    "<tr>\n",
    "<td>Jane Doe</td>\n",
    "<td>27</td>\n",
    "<td>Los Angeles</td>\n",
    "</tr>\n",
    "</tbody>\n",
    "'''\n",
    "```\n",
    "\n",
    "To extract the jokes was pretty simple too since there was only one html element of `ol` type. From `ol` I pulled all qoutes using `find_all()` method. To get rid of all html tags and print a pure text content use the `.text` attribute:\n",
    "### Code:"
   ]
  },
  {
   "cell_type": "code",
   "execution_count": 12,
   "metadata": {},
   "outputs": [
    {
     "name": "stdout",
     "output_type": "stream",
     "text": [
      "7 percent of all statistics are made up on the spot.\n",
      "A clear conscience is usually the sign of a bad memory.\n",
      "A conclusion is the place where you got tired of thinking.\n",
      "A conscience is what hurts when all your other parts feel so good.\n",
      "A cop stopped me for speeding. He said, “Why were you going so fast?” I said, “See this thing my foot is on? It’s called an accelerator. When you push down on it, it sends more gas to the engine. The whole car just takes right off. And see this thing? This steers it.”\n",
      "A friend of mine once sent me a post card with a picture of the entire planet Earth taken from space. On the back it said, “Wish you were here.”\n",
      "A lot of people are afraid of heights. Not me, I’m afraid of widths.\n",
      "All those who believe in psychokinesis raise my hand.\n",
      "Ambition is a poor excuse for not having enough sense to be lazy.\n",
      "Bills travel through the mail at twice the speed of checks.\n",
      "Borrow money from pessimists-they don’t expect it back.\n",
      "Change is inevitable….except from vending machines.\n",
      "Cross country skiing is great if you live in a small country.\n",
      "Dancing is a perpendicular expression of a horizontal desire.\n",
      "Doing a little work around the house. I put fake brick wallpaper over a real brick wall, just so I’d be the only one who knew. People come over and I’m gonna say, “Go ahead, touch it…it feels real.”\n",
      "Drugs may lead to nowhere, but at least it’s the scenic route.\n",
      "Eagles may soar, but weasels don’t get sucked into jet engines.\n",
      "Everyone has a photographic memory. Some just don’t have film.\n",
      "Experience is something you don’t get until just after you need it.\n",
      "For every action, there is an equal and opposite criticism.\n",
      "Half the people you know are below average.\n",
      "Hard work pays off in the future. Laziness pays off now.\n",
      "How do you tell when you’re out of invisible ink?\n",
      "I almost had a psychic girlfriend but she left me before we met.\n",
      "I bought a house, on a one-way dead-end road. I don’t know how I got there.\n"
     ]
    }
   ],
   "source": [
    "import requests\n",
    "from bs4 import BeautifulSoup\n",
    "\n",
    "url = \"https://www.laughteronlineuniversity.com/steven-wright-quotes/\"\n",
    "response = requests.get(url)\n",
    "html_content = response.content\n",
    "soup = BeautifulSoup(html_content, 'html.parser')\n",
    "# Find the ol element, there is only one in this case\n",
    "obody = soup.find('ol')\n",
    "li_qoutes = obody.find_all('li')\n",
    "for li in li_qoutes:\n",
    "    print(li.text)"
   ]
  },
  {
   "attachments": {},
   "cell_type": "markdown",
   "metadata": {},
   "source": [
    "### More Realistic Problemsolving\n",
    "Another time I was trying to make some analysis of train arrival/departures delays.\n",
    "I had a url that stores html pages daily.\n",
    "See the code below. "
   ]
  },
  {
   "cell_type": "code",
   "execution_count": 14,
   "metadata": {},
   "outputs": [],
   "source": [
    "import requests\n",
    "import re\n",
    "import datetime\n",
    "import io\n",
    "from bs4 import BeautifulSoup\n",
    "\n",
    "\n",
    "HEADERS = ['Sched', 'Estmd', 'From', 'To', 'TOC', 'Chgs', 'Train ID', 'date']\n",
    "HEADERS = ','.join(HEADERS)\n",
    "output = io.StringIO()\n",
    "output.write(f'{HEADERS}\\n')\n",
    "\n",
    "start_date,end_date = datetime.date(2023, 1, 1), datetime.date.today()\n",
    "delta_days = (end_date - start_date).days\n",
    "daterange = [(start_date + datetime.timedelta(days)).strftime('%d/%m/%Y')\n",
    "             for days in range(delta_days + 1)]\n",
    "\n",
    "url = \"http://timetablehistory.com/Station.aspx?StationID=1144&Date=01/01/2023\"\n",
    "response = requests.get(url)\n",
    "html_content = response.content\n",
    "soup = BeautifulSoup(html_content, 'html.parser')\n",
    "# Find the table element\n",
    "tbody = soup.find('table') \n",
    "\n",
    "def responder(_url):\n",
    "    response = requests.get(url)\n",
    "    html_content = response.content\n",
    "    soup = BeautifulSoup(html_content, 'html.parser')\n",
    "    # Find the table element\n",
    "    tbody = soup.find('table') \n",
    "    return tbody\n",
    "\n",
    "def row_parser(_table):\n",
    "    # Find all rows in the table\n",
    "    rows = tbody.find_all('tr')\n",
    "    #_headers = [i.get_text(strip=True) \n",
    "    #         for i in rows[0].find_all('th')]\n",
    "    #_headers.append('date')\n",
    "    _tabrows = [i.find_all('td') \n",
    "            for i in rows[1:]]\n",
    "\n",
    "    row_profiles = [[item.get_text(strip=True) for item in row] \n",
    "                    for row in _tabrows]\n",
    "    return row_profiles\n",
    "\n",
    "foo = ['01/01/2023',\n",
    "       '02/01/2023',\n",
    "       '03/01/2023']\n",
    "\n",
    "for i in foo:\n",
    "    _url = f\"http://timetablehistory.com/Station.aspx?StationID=1144&Date={i}\"\n",
    "    tbody = responder(_url)\n",
    "    \"\"\"\n",
    "    print(_url)\n",
    "    print(_url == url)\n",
    "    response = requests.get(_url)\n",
    "    html_content = response.content\n",
    "    soup = BeautifulSoup(html_content, 'html.parser')\n",
    "    # Find the table element\n",
    "    tbody = soup.find('table')\n",
    "    \"\"\"\n",
    "    rows = row_parser(tbody)\n",
    "    \n",
    "    _rows2 = [_+ [i] for _ in rows]\n",
    "    subrows = ['\\n'.join(_rows) for _rows in _rows2]\n",
    "    output.write(f'{subrows}\\n')\n",
    "contents = output.getvalue()\n",
    "# output.truncate()"
   ]
  },
  {
   "cell_type": "code",
   "execution_count": 17,
   "metadata": {},
   "outputs": [
    {
     "data": {
      "text/plain": [
       "\"Sched,Estmd,From,To,TOC,Chgs,Train ID,date\\n['09:06\\\\nCANCELLED\\\\nOXF\\\\nPAD\\\\nGW\\\\n2\\\\nC95818\\\\nView Details\\\\n01/01/2023', '10:11\\\\nREMOVED\\\\nPAD\\\\nOXF\\\\nGW\\\\n1\\\\nC10298\\\\nView Details\\\\n01/01/2023', '10:37\\\\nCANCELLED\\\\nPAD\\\\nHFD\\\\nGW\\\\n3\\\\nC95866\\\\nView Details\\\\n01/01/2023', '10:38\\\\n10:39\\\\nGMV\\\\nPAD\\\\nGW\\\\n4\\\\nC95821\\\\nView Details\\\\n01/01/2023', '11:02\\\\nREMOVED\\\\nOXF\\\\nPAD\\\\nGW\\\\n1\\\\nC95822\\\\nView Details\\\\n01/01/2023', '11:11\\\\nREMOVED\\\\nPAD\\\\nOXF\\\\nGW\\\\n3\\\\nC10299\\\\nView Details\\\\n01/01/2023', '11:37\\\\nCANCELLED\\\\nPAD\\\\nGMV\\\\nGW\\\\n1\\\\nC95873\\\\nView Details\\\\n01/01/2023', '11:38\\\\n11:37\\\\nGMV\\\\nPAD\\\\nGW\\\\n3\\\\nC95823\\\\nView Details\\\\n01/01/2023', '12:02\\\\nREMOVED\\\\nOXF\\\\nPAD\\\\nGW\\\\n1\\\\nC95824\\\\nView Details\\\\n01/01/2023', '12:11\\\\nREMOVED\\\\nPAD\\\\nOXF\\\\nGW\\\\n1\\\\nC02269\\\\nView Details\\\\n01/01/2023', '12:38\\\\n12:37\\\\nGMV\\\\nPAD\\\\nGW\\\\n2\\\\nC95825\\\\nView Details\\\\n01/01/2023', '12:40\\\\nCANCELLED\\\\nPAD\\\\nHFD\\\\nGW\\\\n1\\\\nC95867\\\\nView Details\\\\n01/01/2023', '13:02\\\\nREMOVED\\\\nOXF\\\\nPAD\\\\nGW\\\\n2\\\\nC95826\\\\nView Details\\\\n01/01/2023', '13:11\\\\nREMOVED\\\\nPAD\\\\nOXF\\\\nGW\\\\n1\\\\nC10300\\\\nView Details\\\\n01/01/2023', '13:37\\\\nCANCELLED\\\\nPAD\\\\nGMV\\\\nGW\\\\n1\\\\nC95874\\\\nView Details\\\\n01/01/2023', '13:38\\\\n13:37\\\\nGMV\\\\nPAD\\\\nGW\\\\n1\\\\nC95827\\\\nView Details\\\\n01/01/2023', '14:02\\\\nREMOVED\\\\nOXF\\\\nPAD\\\\nGW\\\\n1\\\\nC95828\\\\nView Details\\\\n01/01/2023', '14:10\\\\nREMOVED\\\\nPAD\\\\nOXF\\\\nGW\\\\n1\\\\nC10301\\\\nView Details\\\\n01/01/2023', '14:37\\\\n14:39\\\\nPAD\\\\nHFD\\\\nGW\\\\n1\\\\nC95868\\\\nView Details\\\\n01/01/2023', '14:38\\\\n14:44\\\\nHFD\\\\nPAD\\\\nGW\\\\n2\\\\nC95829\\\\nView Details\\\\n01/01/2023', '15:02\\\\nREMOVED\\\\nOXF\\\\nPAD\\\\nGW\\\\n1\\\\nC95830\\\\nView Details\\\\n01/01/2023', '15:10\\\\nREMOVED\\\\nPAD\\\\nOXF\\\\nGW\\\\n1\\\\nC02270\\\\nView Details\\\\n01/01/2023', '15:37\\\\n15:39\\\\nPAD\\\\nGMV\\\\nGW\\\\n1\\\\nC95875\\\\nView Details\\\\n01/01/2023', '15:38\\\\nCANCELLED\\\\nGMV\\\\nPAD\\\\nGW\\\\n1\\\\nC95831\\\\nView Details\\\\n01/01/2023', '16:02\\\\nREMOVED\\\\nOXF\\\\nPAD\\\\nGW\\\\n1\\\\nC95832\\\\nView Details\\\\n01/01/2023', '16:10\\\\nREMOVED\\\\nPAD\\\\nOXF\\\\nGW\\\\n1\\\\nC10302\\\\nView Details\\\\n01/01/2023', '16:37\\\\n16:42\\\\nPAD\\\\nHFD\\\\nGW\\\\n1\\\\nC95869\\\\nView Details\\\\n01/01/2023', '16:38\\\\n16:37\\\\nHFD\\\\nPAD\\\\nGW\\\\n1\\\\nC95833\\\\nView Details\\\\n01/01/2023', '17:02\\\\nREMOVED\\\\nOXF\\\\nPAD\\\\nGW\\\\n1\\\\nC95834\\\\nView Details\\\\n01/01/2023', '17:12\\\\nCANCELLED\\\\nPAD\\\\nOXF\\\\nGW\\\\n1\\\\nC10303\\\\nView Details\\\\n01/01/2023', '17:38\\\\n17:58\\\\nHFD\\\\nPAD\\\\nGW\\\\n1\\\\nC95835\\\\nView Details\\\\n01/01/2023', '18:02\\\\nREMOVED\\\\nOXF\\\\nPAD\\\\nGW\\\\n1\\\\nC95836\\\\nView Details\\\\n01/01/2023', '18:12\\\\nCANCELLED\\\\nPAD\\\\nOXF\\\\nGW\\\\n1\\\\nC10304\\\\nView Details\\\\n01/01/2023', '18:38\\\\nCANCELLED\\\\nGMV\\\\nPAD\\\\nGW\\\\n1\\\\nC95837\\\\nView Details\\\\n01/01/2023', '19:02\\\\nREMOVED\\\\nOXF\\\\nPAD\\\\nGW\\\\n2\\\\nC95838\\\\nView Details\\\\n01/01/2023', '19:12\\\\nCANCELLED\\\\nPAD\\\\nOXF\\\\nGW\\\\n1\\\\nC02271\\\\nView Details\\\\n01/01/2023', '19:38\\\\n19:38\\\\nHFD\\\\nPAD\\\\nGW\\\\n1\\\\nC95839\\\\nView Details\\\\n01/01/2023', '20:02\\\\nREMOVED\\\\nOXF\\\\nPAD\\\\nGW\\\\n1\\\\nC95840\\\\nView Details\\\\n01/01/2023', '20:10\\\\nREMOVED\\\\nPAD\\\\nOXF\\\\nGW\\\\n1\\\\nC10305\\\\nView Details\\\\n01/01/2023', '20:37\\\\n20:43\\\\nPAD\\\\nGMV\\\\nGW\\\\n1\\\\nC95878\\\\nView Details\\\\n01/01/2023', '20:38\\\\nCANCELLED\\\\nGMV\\\\nPAD\\\\nGW\\\\n1\\\\nC95841\\\\nView Details\\\\n01/01/2023', '21:10\\\\nREMOVED\\\\nPAD\\\\nOXF\\\\nGW\\\\n1\\\\nC10306\\\\nView Details\\\\n01/01/2023', '21:38\\\\n21:43\\\\nPAD\\\\nWOS\\\\nGW\\\\n2\\\\nC95879\\\\nView Details\\\\n01/01/2023', '22:08\\\\nREMOVED\\\\nPAD\\\\nOXF\\\\nGW\\\\n1\\\\nC02272\\\\nView Details\\\\n01/01/2023', '22:35\\\\n22:38\\\\nPAD\\\\nWOS\\\\nGW\\\\n1\\\\nC95880\\\\nView Details\\\\n01/01/2023', '23:20\\\\n23:20\\\\nOXF\\\\nDID\\\\nGW\\\\n0\\\\nC96919\\\\nView Details\\\\n01/01/2023', '23:25\\\\n23:25\\\\nDID\\\\nOXF\\\\nGW\\\\n0\\\\nC96917\\\\nView Details\\\\n01/01/2023', '00:05\\\\n00:05\\\\nDID\\\\nOXF\\\\nGW\\\\n1\\\\nC96918\\\\nView Details\\\\n01/01/2023']\\n['09:06\\\\nCANCELLED\\\\nOXF\\\\nPAD\\\\nGW\\\\n2\\\\nC95818\\\\nView Details\\\\n02/01/2023', '10:11\\\\nREMOVED\\\\nPAD\\\\nOXF\\\\nGW\\\\n1\\\\nC10298\\\\nView Details\\\\n02/01/2023', '10:37\\\\nCANCELLED\\\\nPAD\\\\nHFD\\\\nGW\\\\n3\\\\nC95866\\\\nView Details\\\\n02/01/2023', '10:38\\\\n10:39\\\\nGMV\\\\nPAD\\\\nGW\\\\n4\\\\nC95821\\\\nView Details\\\\n02/01/2023', '11:02\\\\nREMOVED\\\\nOXF\\\\nPAD\\\\nGW\\\\n1\\\\nC95822\\\\nView Details\\\\n02/01/2023', '11:11\\\\nREMOVED\\\\nPAD\\\\nOXF\\\\nGW\\\\n3\\\\nC10299\\\\nView Details\\\\n02/01/2023', '11:37\\\\nCANCELLED\\\\nPAD\\\\nGMV\\\\nGW\\\\n1\\\\nC95873\\\\nView Details\\\\n02/01/2023', '11:38\\\\n11:37\\\\nGMV\\\\nPAD\\\\nGW\\\\n3\\\\nC95823\\\\nView Details\\\\n02/01/2023', '12:02\\\\nREMOVED\\\\nOXF\\\\nPAD\\\\nGW\\\\n1\\\\nC95824\\\\nView Details\\\\n02/01/2023', '12:11\\\\nREMOVED\\\\nPAD\\\\nOXF\\\\nGW\\\\n1\\\\nC02269\\\\nView Details\\\\n02/01/2023', '12:38\\\\n12:37\\\\nGMV\\\\nPAD\\\\nGW\\\\n2\\\\nC95825\\\\nView Details\\\\n02/01/2023', '12:40\\\\nCANCELLED\\\\nPAD\\\\nHFD\\\\nGW\\\\n1\\\\nC95867\\\\nView Details\\\\n02/01/2023', '13:02\\\\nREMOVED\\\\nOXF\\\\nPAD\\\\nGW\\\\n2\\\\nC95826\\\\nView Details\\\\n02/01/2023', '13:11\\\\nREMOVED\\\\nPAD\\\\nOXF\\\\nGW\\\\n1\\\\nC10300\\\\nView Details\\\\n02/01/2023', '13:37\\\\nCANCELLED\\\\nPAD\\\\nGMV\\\\nGW\\\\n1\\\\nC95874\\\\nView Details\\\\n02/01/2023', '13:38\\\\n13:37\\\\nGMV\\\\nPAD\\\\nGW\\\\n1\\\\nC95827\\\\nView Details\\\\n02/01/2023', '14:02\\\\nREMOVED\\\\nOXF\\\\nPAD\\\\nGW\\\\n1\\\\nC95828\\\\nView Details\\\\n02/01/2023', '14:10\\\\nREMOVED\\\\nPAD\\\\nOXF\\\\nGW\\\\n1\\\\nC10301\\\\nView Details\\\\n02/01/2023', '14:37\\\\n14:39\\\\nPAD\\\\nHFD\\\\nGW\\\\n1\\\\nC95868\\\\nView Details\\\\n02/01/2023', '14:38\\\\n14:44\\\\nHFD\\\\nPAD\\\\nGW\\\\n2\\\\nC95829\\\\nView Details\\\\n02/01/2023', '15:02\\\\nREMOVED\\\\nOXF\\\\nPAD\\\\nGW\\\\n1\\\\nC95830\\\\nView Details\\\\n02/01/2023', '15:10\\\\nREMOVED\\\\nPAD\\\\nOXF\\\\nGW\\\\n1\\\\nC02270\\\\nView Details\\\\n02/01/2023', '15:37\\\\n15:39\\\\nPAD\\\\nGMV\\\\nGW\\\\n1\\\\nC95875\\\\nView Details\\\\n02/01/2023', '15:38\\\\nCANCELLED\\\\nGMV\\\\nPAD\\\\nGW\\\\n1\\\\nC95831\\\\nView Details\\\\n02/01/2023', '16:02\\\\nREMOVED\\\\nOXF\\\\nPAD\\\\nGW\\\\n1\\\\nC95832\\\\nView Details\\\\n02/01/2023', '16:10\\\\nREMOVED\\\\nPAD\\\\nOXF\\\\nGW\\\\n1\\\\nC10302\\\\nView Details\\\\n02/01/2023', '16:37\\\\n16:42\\\\nPAD\\\\nHFD\\\\nGW\\\\n1\\\\nC95869\\\\nView Details\\\\n02/01/2023', '16:38\\\\n16:37\\\\nHFD\\\\nPAD\\\\nGW\\\\n1\\\\nC95833\\\\nView Details\\\\n02/01/2023', '17:02\\\\nREMOVED\\\\nOXF\\\\nPAD\\\\nGW\\\\n1\\\\nC95834\\\\nView Details\\\\n02/01/2023', '17:12\\\\nCANCELLED\\\\nPAD\\\\nOXF\\\\nGW\\\\n1\\\\nC10303\\\\nView Details\\\\n02/01/2023', '17:38\\\\n17:58\\\\nHFD\\\\nPAD\\\\nGW\\\\n1\\\\nC95835\\\\nView Details\\\\n02/01/2023', '18:02\\\\nREMOVED\\\\nOXF\\\\nPAD\\\\nGW\\\\n1\\\\nC95836\\\\nView Details\\\\n02/01/2023', '18:12\\\\nCANCELLED\\\\nPAD\\\\nOXF\\\\nGW\\\\n1\\\\nC10304\\\\nView Details\\\\n02/01/2023', '18:38\\\\nCANCELLED\\\\nGMV\\\\nPAD\\\\nGW\\\\n1\\\\nC95837\\\\nView Details\\\\n02/01/2023', '19:02\\\\nREMOVED\\\\nOXF\\\\nPAD\\\\nGW\\\\n2\\\\nC95838\\\\nView Details\\\\n02/01/2023', '19:12\\\\nCANCELLED\\\\nPAD\\\\nOXF\\\\nGW\\\\n1\\\\nC02271\\\\nView Details\\\\n02/01/2023', '19:38\\\\n19:38\\\\nHFD\\\\nPAD\\\\nGW\\\\n1\\\\nC95839\\\\nView Details\\\\n02/01/2023', '20:02\\\\nREMOVED\\\\nOXF\\\\nPAD\\\\nGW\\\\n1\\\\nC95840\\\\nView Details\\\\n02/01/2023', '20:10\\\\nREMOVED\\\\nPAD\\\\nOXF\\\\nGW\\\\n1\\\\nC10305\\\\nView Details\\\\n02/01/2023', '20:37\\\\n20:43\\\\nPAD\\\\nGMV\\\\nGW\\\\n1\\\\nC95878\\\\nView Details\\\\n02/01/2023', '20:38\\\\nCANCELLED\\\\nGMV\\\\nPAD\\\\nGW\\\\n1\\\\nC95841\\\\nView Details\\\\n02/01/2023', '21:10\\\\nREMOVED\\\\nPAD\\\\nOXF\\\\nGW\\\\n1\\\\nC10306\\\\nView Details\\\\n02/01/2023', '21:38\\\\n21:43\\\\nPAD\\\\nWOS\\\\nGW\\\\n2\\\\nC95879\\\\nView Details\\\\n02/01/2023', '22:08\\\\nREMOVED\\\\nPAD\\\\nOXF\\\\nGW\\\\n1\\\\nC02272\\\\nView Details\\\\n02/01/2023', '22:35\\\\n22:38\\\\nPAD\\\\nWOS\\\\nGW\\\\n1\\\\nC95880\\\\nView Details\\\\n02/01/2023', '23:20\\\\n23:20\\\\nOXF\\\\nDID\\\\nGW\\\\n0\\\\nC96919\\\\nView Details\\\\n02/01/2023', '23:25\\\\n23:25\\\\nDID\\\\nOXF\\\\nGW\\\\n0\\\\nC96917\\\\nView Details\\\\n02/01/2023', '00:05\\\\n00:05\\\\nDID\\\\nOXF\\\\nGW\\\\n1\\\\nC96918\\\\nView Details\\\\n02/01/2023']\\n['09:06\\\\nCANCELLED\\\\nOXF\\\\nPAD\\\\nGW\\\\n2\\\\nC95818\\\\nView Details\\\\n03/01/2023', '10:11\\\\nREMOVED\\\\nPAD\\\\nOXF\\\\nGW\\\\n1\\\\nC10298\\\\nView Details\\\\n03/01/2023', '10:37\\\\nCANCELLED\\\\nPAD\\\\nHFD\\\\nGW\\\\n3\\\\nC95866\\\\nView Details\\\\n03/01/2023', '10:38\\\\n10:39\\\\nGMV\\\\nPAD\\\\nGW\\\\n4\\\\nC95821\\\\nView Details\\\\n03/01/2023', '11:02\\\\nREMOVED\\\\nOXF\\\\nPAD\\\\nGW\\\\n1\\\\nC95822\\\\nView Details\\\\n03/01/2023', '11:11\\\\nREMOVED\\\\nPAD\\\\nOXF\\\\nGW\\\\n3\\\\nC10299\\\\nView Details\\\\n03/01/2023', '11:37\\\\nCANCELLED\\\\nPAD\\\\nGMV\\\\nGW\\\\n1\\\\nC95873\\\\nView Details\\\\n03/01/2023', '11:38\\\\n11:37\\\\nGMV\\\\nPAD\\\\nGW\\\\n3\\\\nC95823\\\\nView Details\\\\n03/01/2023', '12:02\\\\nREMOVED\\\\nOXF\\\\nPAD\\\\nGW\\\\n1\\\\nC95824\\\\nView Details\\\\n03/01/2023', '12:11\\\\nREMOVED\\\\nPAD\\\\nOXF\\\\nGW\\\\n1\\\\nC02269\\\\nView Details\\\\n03/01/2023', '12:38\\\\n12:37\\\\nGMV\\\\nPAD\\\\nGW\\\\n2\\\\nC95825\\\\nView Details\\\\n03/01/2023', '12:40\\\\nCANCELLED\\\\nPAD\\\\nHFD\\\\nGW\\\\n1\\\\nC95867\\\\nView Details\\\\n03/01/2023', '13:02\\\\nREMOVED\\\\nOXF\\\\nPAD\\\\nGW\\\\n2\\\\nC95826\\\\nView Details\\\\n03/01/2023', '13:11\\\\nREMOVED\\\\nPAD\\\\nOXF\\\\nGW\\\\n1\\\\nC10300\\\\nView Details\\\\n03/01/2023', '13:37\\\\nCANCELLED\\\\nPAD\\\\nGMV\\\\nGW\\\\n1\\\\nC95874\\\\nView Details\\\\n03/01/2023', '13:38\\\\n13:37\\\\nGMV\\\\nPAD\\\\nGW\\\\n1\\\\nC95827\\\\nView Details\\\\n03/01/2023', '14:02\\\\nREMOVED\\\\nOXF\\\\nPAD\\\\nGW\\\\n1\\\\nC95828\\\\nView Details\\\\n03/01/2023', '14:10\\\\nREMOVED\\\\nPAD\\\\nOXF\\\\nGW\\\\n1\\\\nC10301\\\\nView Details\\\\n03/01/2023', '14:37\\\\n14:39\\\\nPAD\\\\nHFD\\\\nGW\\\\n1\\\\nC95868\\\\nView Details\\\\n03/01/2023', '14:38\\\\n14:44\\\\nHFD\\\\nPAD\\\\nGW\\\\n2\\\\nC95829\\\\nView Details\\\\n03/01/2023', '15:02\\\\nREMOVED\\\\nOXF\\\\nPAD\\\\nGW\\\\n1\\\\nC95830\\\\nView Details\\\\n03/01/2023', '15:10\\\\nREMOVED\\\\nPAD\\\\nOXF\\\\nGW\\\\n1\\\\nC02270\\\\nView Details\\\\n03/01/2023', '15:37\\\\n15:39\\\\nPAD\\\\nGMV\\\\nGW\\\\n1\\\\nC95875\\\\nView Details\\\\n03/01/2023', '15:38\\\\nCANCELLED\\\\nGMV\\\\nPAD\\\\nGW\\\\n1\\\\nC95831\\\\nView Details\\\\n03/01/2023', '16:02\\\\nREMOVED\\\\nOXF\\\\nPAD\\\\nGW\\\\n1\\\\nC95832\\\\nView Details\\\\n03/01/2023', '16:10\\\\nREMOVED\\\\nPAD\\\\nOXF\\\\nGW\\\\n1\\\\nC10302\\\\nView Details\\\\n03/01/2023', '16:37\\\\n16:42\\\\nPAD\\\\nHFD\\\\nGW\\\\n1\\\\nC95869\\\\nView Details\\\\n03/01/2023', '16:38\\\\n16:37\\\\nHFD\\\\nPAD\\\\nGW\\\\n1\\\\nC95833\\\\nView Details\\\\n03/01/2023', '17:02\\\\nREMOVED\\\\nOXF\\\\nPAD\\\\nGW\\\\n1\\\\nC95834\\\\nView Details\\\\n03/01/2023', '17:12\\\\nCANCELLED\\\\nPAD\\\\nOXF\\\\nGW\\\\n1\\\\nC10303\\\\nView Details\\\\n03/01/2023', '17:38\\\\n17:58\\\\nHFD\\\\nPAD\\\\nGW\\\\n1\\\\nC95835\\\\nView Details\\\\n03/01/2023', '18:02\\\\nREMOVED\\\\nOXF\\\\nPAD\\\\nGW\\\\n1\\\\nC95836\\\\nView Details\\\\n03/01/2023', '18:12\\\\nCANCELLED\\\\nPAD\\\\nOXF\\\\nGW\\\\n1\\\\nC10304\\\\nView Details\\\\n03/01/2023', '18:38\\\\nCANCELLED\\\\nGMV\\\\nPAD\\\\nGW\\\\n1\\\\nC95837\\\\nView Details\\\\n03/01/2023', '19:02\\\\nREMOVED\\\\nOXF\\\\nPAD\\\\nGW\\\\n2\\\\nC95838\\\\nView Details\\\\n03/01/2023', '19:12\\\\nCANCELLED\\\\nPAD\\\\nOXF\\\\nGW\\\\n1\\\\nC02271\\\\nView Details\\\\n03/01/2023', '19:38\\\\n19:38\\\\nHFD\\\\nPAD\\\\nGW\\\\n1\\\\nC95839\\\\nView Details\\\\n03/01/2023', '20:02\\\\nREMOVED\\\\nOXF\\\\nPAD\\\\nGW\\\\n1\\\\nC95840\\\\nView Details\\\\n03/01/2023', '20:10\\\\nREMOVED\\\\nPAD\\\\nOXF\\\\nGW\\\\n1\\\\nC10305\\\\nView Details\\\\n03/01/2023', '20:37\\\\n20:43\\\\nPAD\\\\nGMV\\\\nGW\\\\n1\\\\nC95878\\\\nView Details\\\\n03/01/2023', '20:38\\\\nCANCELLED\\\\nGMV\\\\nPAD\\\\nGW\\\\n1\\\\nC95841\\\\nView Details\\\\n03/01/2023', '21:10\\\\nREMOVED\\\\nPAD\\\\nOXF\\\\nGW\\\\n1\\\\nC10306\\\\nView Details\\\\n03/01/2023', '21:38\\\\n21:43\\\\nPAD\\\\nWOS\\\\nGW\\\\n2\\\\nC95879\\\\nView Details\\\\n03/01/2023', '22:08\\\\nREMOVED\\\\nPAD\\\\nOXF\\\\nGW\\\\n1\\\\nC02272\\\\nView Details\\\\n03/01/2023', '22:35\\\\n22:38\\\\nPAD\\\\nWOS\\\\nGW\\\\n1\\\\nC95880\\\\nView Details\\\\n03/01/2023', '23:20\\\\n23:20\\\\nOXF\\\\nDID\\\\nGW\\\\n0\\\\nC96919\\\\nView Details\\\\n03/01/2023', '23:25\\\\n23:25\\\\nDID\\\\nOXF\\\\nGW\\\\n0\\\\nC96917\\\\nView Details\\\\n03/01/2023', '00:05\\\\n00:05\\\\nDID\\\\nOXF\\\\nGW\\\\n1\\\\nC96918\\\\nView Details\\\\n03/01/2023']\\n\""
      ]
     },
     "execution_count": 17,
     "metadata": {},
     "output_type": "execute_result"
    }
   ],
   "source": [
    "contents"
   ]
  },
  {
   "cell_type": "code",
   "execution_count": null,
   "metadata": {},
   "outputs": [],
   "source": []
  }
 ],
 "metadata": {
  "kernelspec": {
   "display_name": "Python 3",
   "language": "python",
   "name": "python3"
  },
  "language_info": {
   "codemirror_mode": {
    "name": "ipython",
    "version": 3
   },
   "file_extension": ".py",
   "mimetype": "text/x-python",
   "name": "python",
   "nbconvert_exporter": "python",
   "pygments_lexer": "ipython3",
   "version": "3.7.3"
  },
  "orig_nbformat": 4
 },
 "nbformat": 4,
 "nbformat_minor": 2
}
