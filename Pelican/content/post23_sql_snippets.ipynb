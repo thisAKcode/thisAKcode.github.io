{
 "cells": [
  {
   "cell_type": "markdown",
   "metadata": {},
   "source": [
    "- title: Some SQL commands I use as a template.\n",
    "- author: Alex\n",
    "- date: 2023-01-02\n",
    "- category: sql"
   ]
  },
  {
   "cell_type": "markdown",
   "metadata": {},
   "source": [
    "### Joins \n",
    "Here is an example of how you can use a JOIN clause in SQL to join a table called orders with 6 other tables:\n",
    "    "
   ]
  },
  {
   "cell_type": "markdown",
   "metadata": {},
   "source": [
    "```sql\n",
    "SELECT orders.*, customers.*, products.*, shippers.*, suppliers.*, categories.*\n",
    "FROM orders\n",
    "JOIN customers ON orders.customer_id = customers.customer_id\n",
    "JOIN products ON orders.product_id = products.product_id\n",
    "JOIN shippers ON orders.shipper_id = shippers.shipper_id\n",
    "JOIN suppliers ON products.supplier_id = suppliers.supplier_id\n",
    "JOIN categories ON products.category_id = categories.category_id\n",
    "```"
   ]
  },
  {
   "cell_type": "markdown",
   "metadata": {},
   "source": [
    "This query will select all columns from the orders table, as well as all columns from the customers, products, shippers, suppliers, and categories tables. The JOIN clauses specify how the tables are related to each other. In this example, the orders table is related to the customers table by the customer_id column, the orders table is related to the products table by the product_id column, and so on."
   ]
  },
  {
   "cell_type": "code",
   "execution_count": null,
   "metadata": {},
   "outputs": [],
   "source": []
  }
 ],
 "metadata": {
  "kernelspec": {
   "display_name": "Python 3",
   "language": "python",
   "name": "python3"
  },
  "language_info": {
   "codemirror_mode": {
    "name": "ipython",
    "version": 3
   },
   "file_extension": ".py",
   "mimetype": "text/x-python",
   "name": "python",
   "nbconvert_exporter": "python",
   "pygments_lexer": "ipython3",
   "version": "3.7.3"
  }
 },
 "nbformat": 4,
 "nbformat_minor": 2
}
