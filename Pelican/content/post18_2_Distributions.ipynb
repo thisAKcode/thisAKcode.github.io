{
 "cells": [
  {
   "attachments": {},
   "cell_type": "markdown",
   "metadata": {},
   "source": [
    "- title: Statistical Distributions (Common ones)\n",
    "- author: Alex\n",
    "- date: 2022-10-17\n",
    "- category: python"
   ]
  },
  {
   "attachments": {},
   "cell_type": "markdown",
   "metadata": {},
   "source": [
    "### Introduction\n",
    "A probability distribution in statistics is a function that returns the possible values for a variable with different occurence rate (how often values occur). Distribution in nature and society tend to fit pattern with ocasionally occuring exceptions (isn't absence of pattern is a pattern too?).\n",
    "\n",
    "####  Probability Mass Function\n",
    "Discrete random variable has probability mass function (PMF) being a particular type of *probability distribution* that defines the probability of observing some value given particular parameter. Random variables and corresponding probability distributions may be applied on many different kinds of problems. \n",
    "\n",
    "Probability distributions have parameters that make them adaptable for different situations. Here I named a few common distributions:\n",
    "* Normal Distribution\n",
    "* Binomial Distribution\n",
    "* Poisson Distribution\n",
    "* Exponential Distribution\n",
    "* Uniform Distribution\n",
    "\n",
    "These are many other distributions. All distributions are used to model data depending on its characteristics. \n",
    "\n",
    "### Random Variables\n",
    "Data is described using variables. Given a random variable FOO you can get different values. Think of your values that variable FOO can take as a output from some model. You can estimate probability of different outcomes for variable FOO. A probability distribution function assigns probabilies to values that FOO can possibly take.\n",
    "\n",
    "Random variables represent random events: the outcome of a die roll represents integers from one to six. Random variables are often numeric, and in order to represent categorical data for events with non-numeric outcomes, we can assigned numbers to represent those outcomes: \"heads\" a value of 1 and \"tails\" a value of 0. Here we have a code to simulate random outcomes occuring several times:"
   ]
  },
  {
   "cell_type": "code",
   "execution_count": null,
   "metadata": {},
   "outputs": [],
   "source": [
    "import numpy as np\n",
    "\n",
    "die_6 = range(1, 7)\n",
    "boys_girls = ('b','g')\n",
    "\n",
    "rolls = np.random.choice(die_6, size = 12, replace = True)\n",
    "births =  np.random.choice(boys_girls, size = 12, replace = True)\n",
    "print(rolls)\n",
    "print(births)"
   ]
  },
  {
   "attachments": {},
   "cell_type": "markdown",
   "metadata": {},
   "source": [
    "### Classification of Variables\n",
    "Random variables are random in different ways:\n",
    "* discrete variables are assigned one of a specified collection of values: count of two Fair Coins/Dices.\n",
    "* continuous (arbitrarily exact values): time, speed.\n",
    "* mixed.\n",
    "\n",
    "*Discrete* variables are taking count values on a specified list (pixels, coins, votes) Think of light bulb, you can buy one or many, but can't buy half a bulb, neither 0.3 because these are uncountable. In this case, the values must be countable in that they are limited to whole numbers.If you one day buy less than one or one and a half, I then will need to update this article!\n",
    "\n",
    "*Continuous* variables are taking precise  values from a range of values that are pecise (temperature, time, height). The value of 3.141592, as well as more precise values of pi are uncountable. Continuous variables progressively take the values more and more precise- each value from range of descriptive values must exist in order to arrive at the next one. \n",
    "\n",
    "When I drink some water (which I really do sometimes) the volume of my randomly chosen glass is a perfectly continuous variable taking values all the time even if I am not aware of every floating point value of volume that I am swallowing, wich is fine - measurements can always be more precise but I do not have time to think about all of them. Chances are good my drinking example made you thinking about *mixed* variables always having discrete component and continuous component. "
   ]
  },
  {
   "attachments": {},
   "cell_type": "markdown",
   "metadata": {},
   "source": [
    "### Binomial Distribution\n",
    "\n",
    "The binomial distribution is the probability mass function that describes the likelihood of each possible outcome (eg., 0 heads, 1 head, 2 heads, etc.). The parameters for the binomial distribution are:\n",
    "\n",
    "    n for the number of events/ trials (eg., n=10 if we flip a coin 10 times)\n",
    "    p for the probability of success in each trial (probability of observing a particular outcome in each trial).\n",
    "\n",
    "In this example, p= 0.5 because the probability of observing heads on a fair coin flip is 0.5.\n",
    "\n",
    "If we observe 10 events and multiply it by the chance of getting success (one-half) then we apply the equation for the expected value of the binomial distribution.\n",
    "\n",
    "\n",
    "####  PMF Probability Mass Function for Discrete Case\n",
    "\n",
    "For discrete variable its distribution is called a probability mass function, and it describes how discrete variable should behave.\n",
    "\n",
    "Davidson-Pilon, Cameron. Bayesian Methods for Hackers (Addison-Wesley Data & Analytics) (p. 34). Pearson Education. Kindle Edition. \n",
    "Let’s say we flip a fair coin 10 times. Below is the code to compute probablity of observing one value of interest (heads) using probability mass function and find the probability of observing a range of values for a discrete random variable.\n",
    "We get the probability of getting between 2 and 4 heads. We can visualize this scenario below."
   ]
  },
  {
   "cell_type": "code",
   "execution_count": null,
   "metadata": {
    "scrolled": true
   },
   "outputs": [],
   "source": [
    "import scipy.stats as stats\n",
    "import numpy as np\n",
    "\n",
    "from scipy.stats import norm\n",
    "\n",
    "import matplotlib.pyplot as plt\n",
    "\n",
    "fig, ax = plt.subplots(1, 1)\n",
    "# value of interest is the number of heads I can get\n",
    "x = 5 \n",
    "# number of trows, probability of success\n",
    "n, p = 10, 0.5\n",
    "stats.binom.pmf(x, n, p)  # 0.24609375000000003\n",
    "_cumulative_pmf = [stats.binom.pmf(i,n,p) for i in range(10)]\n",
    "print(_cumulative_pmf)\n",
    "ax.plot(range(10), _cumulative_pmf, 'k-', lw=2, label='pdf')\n",
    "\n",
    "ax.plot(range(2,5), _cumulative_pmf[2:5], 'r-', lw=5, label='pdf')"
   ]
  },
  {
   "attachments": {},
   "cell_type": "markdown",
   "metadata": {},
   "source": [
    "We can calculate the probability of observing 3 successes (heads in this case) using the **following equation**:\n",
    "\n",
    "`P(2<=heads<=4)=P(X=2)+P(X=3)+P(X=4)`\n",
    "\n",
    "P(2to4heads)=0.0439 + 0.1172 + 0.2051 = 0.3662\n",
    "The probability of between 2 and 4 Heads : 36.62%\n",
    "\n",
    "**Or Python**\n",
    "```python\n",
    "import scipy.stats as stats\n",
    " \n",
    "# calculating P(2<=heads<=4heads) for flipping a coin 10 times\n",
    "print(sum([stats.binom.pmf(i, n=10, p=.5) for i in [2,3,4]])) # 0.36621093749999994\n",
    "``` \n",
    "pmf for many possible values of interest \n",
    "```python\n",
    "# calculate P(0<=heads<=8 heads) for 10 flips\n",
    "print(sum([stats.binom.pmf(i, n=10, p=.5) for i in range(0,9)]))\n",
    "# we refactor is as follows: the sum of the probabilities for all possible values = 1:\n",
    "# less than or equal to 8\n",
    "1 - (sum([stats.binom.pmf(i, n=10, p=.5) for i in range(9,11)]))\n",
    "# similarly the probability of observing more than 2 heads from 10 coin flips, notice 0 is included.\n",
    "1 - (sum([stats.binom.pmf(i, n=10, p=.5) for i in range(0,3)]))\n",
    "```"
   ]
  },
  {
   "cell_type": "code",
   "execution_count": null,
   "metadata": {},
   "outputs": [],
   "source": [
    "import scipy.stats as stats\n",
    "print(sum([stats.binom.pmf(i, n=10, p=.5) for i in [2,3,4]]))\n"
   ]
  },
  {
   "attachments": {},
   "cell_type": "markdown",
   "metadata": {},
   "source": [
    "####  CDF Cumulative Distribution Function for Discrete Case\n",
    "Cumulative Distribution Function\n",
    ": CDF is a function that computes the probability of observing a specific value or less. For ordered sequence of values the output of the CDF function will always be greater for the larger input. Plotted CDF on the graph shows how each y-axis value is the sum of the probabilities less than or equal to it in the PMF. \n",
    "\n",
    "Each y-axis value of CDF is the sum of the probabilities less than or equal to it in the PMF."
   ]
  },
  {
   "cell_type": "code",
   "execution_count": null,
   "metadata": {},
   "outputs": [],
   "source": [
    "import numpy as np\n",
    "import scipy.stats as stats\n",
    "from matplotlib import pyplot as plt\n",
    "\n",
    "fig, ax = plt.subplots(1, 1)\n",
    "\n",
    "plt.rcParams[\"figure.figsize\"] = [7.50, 3.50]\n",
    "plt.rcParams[\"figure.autolayout\"] = True\n",
    "\n",
    "\n",
    "pmf = [stats.binom.pmf(i, n=10, p=.5) for i in range(0,11)]\n",
    "cdf = np.cumsum(pmf)\n",
    "\n",
    "ax.plot(range(11), cdf, 'k-', lw=2, label='pdf')\n"
   ]
  },
  {
   "cell_type": "code",
   "execution_count": null,
   "metadata": {},
   "outputs": [],
   "source": [
    "import matplotlib.pyplot as plt\n",
    "import numpy as np\n",
    "# data to plot\n",
    "n, p = 10, 0.5\n",
    "stats.binom.pmf(x, n, p)  # 0.24609375000000003\n",
    "_cumulative_pmf = [stats.binom.pmf(i,n,p) for i in range(10)]\n",
    "cdf = np.cumsum(_cumulative_pmf)\n",
    "\n",
    "# Create a 2x2 grid of subplots\n",
    "fig, axs = plt.subplots(2, 1)\n",
    "\n",
    "# Plot the data on the subplots\n",
    "axs[0].plot(range(10), _cumulative_pmf, 'k-', lw=2, label='pdf')\n",
    "axs[1].plot(range(10), cdf, 'k-', lw=2, label='pdf')\n",
    "\n",
    "# Add titles to the subplots\n",
    "axs[0].set_title('pdf')\n",
    "axs[1].set_title('cdf')\n",
    "\n",
    "# Add a main title to the figure\n",
    "fig.suptitle('cdf-vs-pmf')\n",
    "\n",
    "# Show the figure\n",
    "plt.show()"
   ]
  },
  {
   "attachments": {},
   "cell_type": "markdown",
   "metadata": {},
   "source": [
    "### CDF for a Specific Range by Substraction\n",
    "The difference between two values from the cumulative distribution function is the probability of getting values from a specific range. \n",
    "\n",
    "The probability of observing between 3 and 6 heads is computed like follows: ` CDF(x=6) - CDF(x=2) = P(3<=x<=6)`, which is identical to\n",
    "probability to observe 6 or fewer heads minus probability of observing 2 or fewer heads `P(x<=6) - P(x<=2)` = 0.828-0.054 = 0.773 \n",
    "\n",
    "Cumulative Distribution Function in Python computed as follows:"
   ]
  },
  {
   "cell_type": "code",
   "execution_count": null,
   "metadata": {},
   "outputs": [],
   "source": [
    "import scipy.stats as stats\n",
    " \n",
    "(stats.binom.cdf(6, 10, 0.5)) # 0.828125  is probability that given probability of single event 0.5 it is observed 5 or fewer heads from 10 fair coin flips\n",
    "(stats.binom.cdf([2,3,4,5,6], 10, 0.5)) # [0.0546875  0.171875   0.37695312 0.62304688 0.828125]\n",
    "print((stats.binom.cdf(6, 10, 0.5)) -(stats.binom.cdf(2, 10, 0.5))) # 0.7734375\n",
    "\n",
    "# If we wanted to calculate the probability of observing between 2 and 5 heads from 10 fair coin flips, we could use the following code:\n",
    "prob_2to5 = stats.binom.cdf(5,n=10,p=0.5) - stats.binom.cdf(1,n=10,p=0.5) "
   ]
  },
  {
   "attachments": {},
   "cell_type": "markdown",
   "metadata": {},
   "source": [
    "This method takes 3 values:\n",
    "\n",
    "    x: the value of interest, looking for the probability of this value or less\n",
    "    n: the sample size\n",
    "    p: the probability of success\n",
    "As always some useful and detailed explanation is accessible via help(): "
   ]
  },
  {
   "cell_type": "code",
   "execution_count": null,
   "metadata": {},
   "outputs": [],
   "source": [
    "help(stats.binom.cdf)"
   ]
  },
  {
   "attachments": {},
   "cell_type": "markdown",
   "metadata": {},
   "source": [
    "### PDF for Continuous Case\n",
    "A continuous random variable has a probability density function wich is different from pmf since it can compute probability of getting any positive values, including  for example a non-integral 3.14. The pdf define the probability distributions of continuous random variables and span across all possible values of a variable.\n",
    "\n",
    "pdf graph is a bell shaped curve of probabilities that values can take. The total area for the plot of probabilities for the whole range of values add up to 1. Since variable is continuous it is impossible to quantify probability at a single point (since area under the point is always zero). For narrow interval the area under the curve is small: the area under the curve at a specific point, the width of that area becomes 0.\n",
    "Some type of probability distribution consistently appear like for instance  very common one - normal distribution. For example, human heights fall under a normal distribution with its parameters: Normal(mean, standard deviation) as shorthand. Let's see how you compute area using cdf (cumulative distribution function) for a normal distribution. We can calculate the area under the curve using the cumulative distribution function for the given probability distribution.\n",
    "\n",
    "To know the probability that a randomly chosen woman is less than 158 or 175 cm tall(158 and 175 are the value of interest here) we pass another parameters to norm.cdf function: a mean of 167.64 cm and a standard deviation of 8 cm: \n",
    "\n",
    "```python \n",
    "import scipy.stats as stats\n",
    " \n",
    "# probability that a randomly chosen woman is less than 158 cm \n",
    "# given following parameters stats.norm.cdf(x, loc, scale)\n",
    "print(stats.norm.cdf(158, 167.64, 8))  # 0.1141\n",
    "# or the probability that a randomly chosen woman is less than 175 cm tall.\n",
    "print(stats.norm.cdf(175, 167.64, 8)) # 0.8212\n",
    "\n",
    "```\n",
    "\n",
    "Given women’s heights have:\n",
    "  a mean of 167.64 cm,  \n",
    "  a standard deviation of 8 cm, \n",
    "Here is the cumulative distribution function used to calculate the area under the probability density function curve from 0 to 158 to find that probability. \n",
    "\n",
    "Below I plot cumulative density function (CDF) for human height using value of interest 175 and the probability density function (PDF). "
   ]
  },
  {
   "attachments": {},
   "cell_type": "markdown",
   "metadata": {},
   "source": []
  },
  {
   "cell_type": "code",
   "execution_count": null,
   "metadata": {},
   "outputs": [],
   "source": [
    "import numpy as np\n",
    "import matplotlib.pyplot as plt\n",
    "from scipy import stats\n",
    "\n",
    "# Generate some random data for human height\n",
    "np.random.seed(0)\n",
    "heights = np.random.normal(167.64, 8, 1000)  # Mean = 170, Standard Deviation = 10\n",
    "value_of_interest = 175\n",
    "# (CDF)\n",
    "sorted_heights = np.sort(heights)\n",
    "cdf = np.arange(1, len(sorted_heights) + 1) / len(sorted_heights)\n",
    "cdf_value_of_interest = stats.norm.cdf(value_of_interest, loc=np.mean(heights), scale=np.std(heights))\n",
    "#  (PDF)\n",
    "x = np.linspace(130, 210, 100)  # Range of realistic values\n",
    "pdf = stats.norm.pdf(x, loc=np.mean(heights), scale=np.std(heights))\n",
    "pdf_value_of_interest = stats.norm.pdf(value_of_interest, loc=np.mean(heights), scale=np.std(heights))\n",
    "# instantiate two subplots\n",
    "fig, (ax1, ax2) = plt.subplots(1, 2, figsize=(12, 4))\n",
    "\n",
    "# CDF on the first subplot\n",
    "ax1.plot(sorted_heights, cdf, label='CDF')\n",
    "ax1.axvline(x=value_of_interest, ymin=0, ymax=cdf_value_of_interest, color='r', linestyle='--')\n",
    "ax1.axhline(y=cdf_value_of_interest, xmin=0, xmax=value_of_interest, color='r', linestyle='--')\n",
    "ax1.scatter(value_of_interest, cdf_value_of_interest, color='r', label='Value of Interest')\n",
    "ax1.set_xlabel('Height')\n",
    "ax1.set_ylabel('Cumulative Probability')\n",
    "ax1.set_title('CDF of Human Height')\n",
    "ax1.legend()\n",
    "\n",
    "# PDF on the second subplot\n",
    "ax2.plot(x, pdf, label='PDF')\n",
    "\n",
    "# Highlight the range 165 to 175\n",
    "range_start = 165\n",
    "range_end = 175\n",
    "ax2.fill_between(x, pdf, where=((x >= range_start) & (x <= range_end)),\n",
    "                 alpha=0.3, color='g', label='165-175')\n",
    "ax2.fill_between(x, pdf, where=((x <= range_start)),\n",
    "                 alpha=0.3, color='r', label='<165')\n",
    "ax2.fill_between(x, pdf, where=((x >= range_end)),\n",
    "                 alpha=0.3, color='b', label='>175')\n",
    "ax2.axvline(x=value_of_interest, ymin=0, ymax=pdf_value_of_interest, color='r', linestyle='--')\n",
    "ax2.scatter(value_of_interest, pdf_value_of_interest, color='r', label='Value of Interest')\n",
    "ax2.set_xlabel('Height')\n",
    "ax2.set_ylabel('Probability Density')\n",
    "ax2.set_title('PDF of Human Height')\n",
    "ax2.legend()\n",
    "\n",
    "plt.tight_layout()\n",
    "plt.show()\n"
   ]
  },
  {
   "attachments": {},
   "cell_type": "markdown",
   "metadata": {},
   "source": [
    "The difference between y axis of those two plots is that the one on the right side is actually having the whole range of probablitiy stored under the bell-shaped polygon - the total area for the plot of probabilities for the whole range of values add up to 1. So imagine you need to get the probability of meet person between 165 and 175 cm height or simply more than 175. You see the area in green? That is the probability presented visually, run the code below to get the actual value of 0.45. The blue one is computed as 1 - p(175)."
   ]
  },
  {
   "attachments": {},
   "cell_type": "markdown",
   "metadata": {},
   "source": [
    "### Poisson Distribution\n",
    "Here I documented how to use pmf to Calculate the Probability of Exact Values\n",
    "\n",
    "The Poisson distribution is a discrete probability distribution, described by cdf and pmf. Poisson distribution comes out of the box with scipy.\n",
    "Given expected parameter of a distribution (something is true 10 days of 31) you can get a probability of observing a specific count of expected outcome (is true 6  days). \n",
    "\n",
    "```python\n",
    "import scipy.stats as stats\n",
    "# given expected 10, get probability of getting 6\n",
    "stats.poisson.pmf(6, 10)\n",
    "```\n",
    "To find the probability of observing a value in a range the individual probabilities sum up.\n",
    "```python\n",
    "stats.poisson.pmf(6, 10) + stats.poisson.pmf(7, 10) + stats.poisson.pmf(8, 10)\n",
    "```\n"
   ]
  },
  {
   "cell_type": "code",
   "execution_count": null,
   "metadata": {},
   "outputs": [],
   "source": [
    "import scipy.stats as stats\n",
    "# P(165 < X < 175) = P(X < 175) - P(X < 165)\n",
    "# stats.norm.cdf(x, loc, scale) - stats.norm.cdf(x, loc, scale)\n",
    "# where loc and scale are the mean and standard deviation\n",
    "print(stats.norm.cdf(175, 167.74, 8) - stats.norm.cdf(165, 167.74, 8))\n",
    "# P(X > 165) = 1 - P(X <165)\n",
    "# 1 - stats.norm.cdf(x, loc, scale)\n",
    "print(1 - stats.norm.cdf(165, 167.74, 8))"
   ]
  },
  {
   "attachments": {},
   "cell_type": "markdown",
   "metadata": {},
   "source": [
    "### Calculate Probabilities Using Poisson CDF\n",
    "\n",
    "Poisson distribution is a discrete probability distribution and the  details are beyond the scope of this article. I am glad that Wikipedia is run by enthusiastic content creators and I can check any details here <https://en.wikipedia.org/wiki/Poisson_distribution>.\n",
    "\n",
    "Imagine I want to compute chances that it will be maximum 6 rainy days in June given fact that it tend to be 10 rainy days (average number of rainy days in June over years). The parameter that takes the value 6 in cdf is the parameter lambda (λ) or expected value. The parameter of average estimate 10 is a known constant mean rate.  \n",
    "```python\n",
    "import scipy.stats as stats\n",
    "# expected value = 10, compute probability of getting upp untill 6\n",
    "stats.poisson.cdf(6, 10)\n",
    "```\n",
    "\n",
    "Summing individual probabilities from probability mass function (https://docs.scipy.org/doc/scipy/reference/generated/scipy.stats.poisson.html) over a range can be skipped by means of substracting cdf. \n",
    "\n",
    "```python\n",
    "# given a range take the difference between the CDF of the larger endpoint\n",
    "# and the CDF of the smaller endpoint - 1\n",
    "import scipy.stats as stats\n",
    "\n",
    "# expected value = 10, probability of observing between 12 and 18\n",
    "stats.poisson.cdf(18, 10) - stats.poisson.cdf(12-1, 10)\n",
    "```\n"
   ]
  },
  {
   "cell_type": "code",
   "execution_count": 5,
   "metadata": {},
   "outputs": [
    {
     "name": "stdout",
     "output_type": "stream",
     "text": [
      "The probability of getting an expected value between 12 and 18 is: 0.29603734909303986\n"
     ]
    }
   ],
   "source": [
    "import numpy as np\n",
    "from scipy.stats import poisson\n",
    "\n",
    "# Define the average rate (λ) for the Poisson distribution\n",
    "average_rate = 10\n",
    "\n",
    "# Define the range of expected values\n",
    "range_start = 12\n",
    "range_end = 18\n",
    "# substraction way using CDF\n",
    "probability_range = stats.poisson.cdf(range_end, average_rate) - stats.poisson.cdf(range_start-1, average_rate)\n",
    "# addition way using the PMF\n",
    "probability_range = np.sum(poisson.pmf(np.arange(range_start, range_end + 1), average_rate))\n",
    "\n",
    "# Print the result\n",
    "print(f\"The probability of getting an expected value between {range_start} and {range_end} is: {probability_range}\")"
   ]
  },
  {
   "attachments": {},
   "cell_type": "markdown",
   "metadata": {},
   "source": [
    "### Parameter Lambda\n",
    "\n",
    "Expected value of the Poisson distribution means that on average, across given period of time (or in space), we expect our average to equal about 10 items per time. If we do not have a survey we can get it another way: generate sample of 1000 random values from the Poisson distribution with the expected value of 10 using `scipy.stats.poisson.rvs()`. You set parameter size equal to 1000, to generate that many random variates from the Poisson distribution with lambda equal to 10.\n"
   ]
  },
  {
   "cell_type": "code",
   "execution_count": 6,
   "metadata": {},
   "outputs": [
    {
     "data": {
      "image/png": "[encoded data removed]",
      "text/plain": [
       "<Figure size 432x288 with 1 Axes>"
      ]
     },
     "metadata": {
      "needs_background": "light"
     },
     "output_type": "display_data"
    }
   ],
   "source": [
    "import matplotlib.pyplot as plt\n",
    "import scipy.stats as stats\n",
    "import numpy as  np\n",
    "\n",
    "# Generate random variable from Poisson distribution\n",
    "# lambda = 10, 10000 random draws \n",
    "rvs = stats.poisson.rvs(10, size=10000)\n",
    "rvs.mean() # 10.0291 notice expected value 10 is NOT EXACTLY but almost equal to this mean value \n",
    "# Plot the histogram\n",
    "plt.hist(rvs, bins = np.arange(len(set(rvs)))-0.5, alpha=0.7, rwidth=0.85)\n",
    "plt.xlabel('Value')\n",
    "plt.ylabel('Frequency')\n",
    "plt.title('Histogram of Random Variable')\n",
    "plt.grid(True)\n",
    "\n",
    "plt.show()"
   ]
  },
  {
   "attachments": {},
   "cell_type": "markdown",
   "metadata": {},
   "source": [
    "### Dispersion of Poisson\n",
    "\n",
    "If values spread wider,then we have a larger variance.\n",
    "For the Poisson distribution, the variance is simply the value of lambda (λ), the expected value is equivalent to variance. Increasing of expected value makes spread of distribution (variance of possible values) also increase.\n",
    "Given the samples with different variance it is easy to compute variance using the numpy.var() method:\n"
   ]
  },
  {
   "cell_type": "code",
   "execution_count": 11,
   "metadata": {},
   "outputs": [
    {
     "name": "stdout",
     "output_type": "stream",
     "text": [
      "4.038991\n",
      "0 12\n"
     ]
    }
   ],
   "source": [
    "import scipy.stats as stats\n",
    "import numpy as np\n",
    "# for 4000 draws compute values of Poisson distribution \n",
    "rand_vars = stats.poisson.rvs(4, size = 4000) # array([2, 4, 6, ..., 2, 5, 1])\n",
    "print(np.var(rand_vars)) # 4.0836440000000005\n",
    "print(min(rand_vars), max(rand_vars)) # 0, 12\n"
   ]
  },
  {
   "cell_type": "code",
   "execution_count": null,
   "metadata": {},
   "outputs": [],
   "source": []
  },
  {
   "attachments": {},
   "cell_type": "markdown",
   "metadata": {},
   "source": [
    "'One useful property of the Poisson distribution is that its expected value is equal to its parameter... ' The code below that illustrates the spread of Poisson distribution is pulled from \n",
    "Davidson-Pilon, Cameron. Bayesian Methods for Hackers (Addison-Wesley Data & Analytics) (p. 36). Pearson Education. Kindle Edition. "
   ]
  },
  {
   "cell_type": "code",
   "execution_count": 18,
   "metadata": {},
   "outputs": [
    {
     "data": {
      "image/png": "[encoded data removed]",
      "text/plain": [
       "<Figure size 432x288 with 1 Axes>"
      ]
     },
     "metadata": {
      "needs_background": "light"
     },
     "output_type": "display_data"
    }
   ],
   "source": [
    "\n",
    "import scipy.stats as stats\n",
    "a = np.arange(16)\n",
    "poi = stats.poisson\n",
    "lambda_ = [1.5, 4.25]\n",
    "colors = [\"red\", \"blue\"]\n",
    "plt.bar(a, poi.pmf(a, lambda_[0]), color=colors[0],\n",
    "label=\"$\\lambda = %.1f$\" % lambda_[0], alpha=0.60,\n",
    "edgecolor=colors[0], lw=\"3\")\n",
    "plt.bar(a, poi.pmf(a, lambda_[1]), color=colors[1],\n",
    "label=\"$\\lambda = %.1f$\" % lambda_[1], alpha=0.60,\n",
    "edgecolor=colors[1], lw=\"3\")\n",
    "plt.xticks(a + 0.4, a)\n",
    "plt.legend()\n",
    "plt.ylabel(\"Probability of $k$\")\n",
    "plt.xlabel(\"$k$\")\n",
    "plt.title(\"Probability mass function of a Poisson random variable,\\\n",
    "differing \\$\\lambda$ values\");\n"
   ]
  },
  {
   "attachments": {},
   "cell_type": "markdown",
   "metadata": {},
   "source": [
    "### Binomial Distribution\n",
    "\n"
   ]
  },
  {
   "attachments": {},
   "cell_type": "markdown",
   "metadata": {},
   "source": [
    "### Uniform Distribution"
   ]
  },
  {
   "cell_type": "code",
   "execution_count": null,
   "metadata": {},
   "outputs": [],
   "source": [
    "%matplotlib inline\n",
    "import matplotlib.pyplot as plt\n",
    "from IPython.display import Math, Latex\n",
    "from IPython.core.display import Image\n",
    "import seaborn as sns"
   ]
  },
  {
   "cell_type": "code",
   "execution_count": null,
   "metadata": {},
   "outputs": [],
   "source": [
    "from scipy.stats import uniform\n",
    "n, start, width = 1000, 10, 20\n",
    "uni_data = uniform.rvs(size=n, loc = start, scale = width)\n",
    "ax = sns.distplot(uni_data, bins = 100, kde = True, hist_kws={\"linewidth\":15, 'alpha':1}\n",
    "    )"
   ]
  },
  {
   "attachments": {},
   "cell_type": "markdown",
   "metadata": {},
   "source": [
    "### Normal Distribution\n",
    "Gaussian distribution (as it is also called) is attributed to several measues for stuff around, it's  everywhere: weight of apples of same variety, height of people you stumble upon daily. The values that that registered for these attributes are normally distributed: can take on any real number but the value is ofther close to average(mean).\n",
    "\n",
    "A pymc library wich gives you access to all kind of distributions: <https://www.pymc.io/projects/docs/en/stable/api/distributions.html>.\n",
    "\n",
    "If a distribution of values occillates around an average then it is normal distribution.\n",
    "Normal distribution is of continuous type and is opposed to uniform distribution.\n",
    "```python\n",
    "import matplotlib.pyplot as plt\n",
    "import numpy as np\n",
    "import arviz as az\n",
    "plt.style.use('arviz-darkgrid')\n",
    "x = np.linspace(-3, 3, 500)\n",
    "ls = [0., -2]\n",
    "us = [2., 1]\n",
    "for l, u in zip(ls, us):\n",
    "    y = np.zeros(500)\n",
    "    y[(x<u) & (x>l)] = 1.0/(u-l)\n",
    "    plt.plot(x, y, label='lower = {}, upper = {}'.format(l, u))\n",
    "plt.xlabel('x', fontsize=12)\n",
    "plt.ylabel('f(x)', fontsize=12)\n",
    "plt.ylim(0, 1)\n",
    "plt.legend(loc=1)\n",
    "plt.show()\n",
    "\n",
    "```"
   ]
  },
  {
   "cell_type": "code",
   "execution_count": null,
   "metadata": {},
   "outputs": [],
   "source": [
    "### "
   ]
  },
  {
   "attachments": {},
   "cell_type": "markdown",
   "metadata": {},
   "source": [
    "### References\n",
    "1. <https://towardsdatascience.com/seven-must-know-statistical-distributions-and-their-simulations-for-data-science-681c5ac41e32>\n",
    "    \n",
    "2. Davidson-Pilon, Cameron. Bayesian Methods for Hackers (Addison-Wesley Data & Analytics) (p. 35). Pearson Education. Kindle Edition. \n",
    "\n",
    "3. <https://en.wikipedia.org/wiki/List_of_probability_distributions>"
   ]
  },
  {
   "cell_type": "code",
   "execution_count": null,
   "metadata": {},
   "outputs": [],
   "source": []
  }
 ],
 "metadata": {
  "kernelspec": {
   "display_name": "Python 3",
   "language": "python",
   "name": "python3"
  },
  "language_info": {
   "codemirror_mode": {
    "name": "ipython",
    "version": 3
   },
   "file_extension": ".py",
   "mimetype": "text/x-python",
   "name": "python",
   "nbconvert_exporter": "python",
   "pygments_lexer": "ipython3",
   "version": "3.7.3"
  }
 },
 "nbformat": 4,
 "nbformat_minor": 2
}
