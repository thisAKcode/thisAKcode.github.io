{
 "cells": [
  {
   "cell_type": "code",
   "execution_count": null,
   "metadata": {},
   "outputs": [],
   "source": [
    "- title: Statistical Distributions (Common ones)\n",
    "- author: Alex\n",
    "- date: 2022-10-17\n",
    "- category: python"
   ]
  },
  {
   "cell_type": "markdown",
   "metadata": {},
   "source": [
    "### Introduction\n",
    "A distribution in statistics is a function that returns the possible values for a variable with different occurence rate (how often values occur).\n",
    "\n",
    "Here are a few common statistical distributions:\n",
    "* Normal Distribution\n",
    "* Binomial Distribution\n",
    "* Poisson Distribution\n",
    "* Exponential Distribution\n",
    "* Uniform Distribution\n",
    "\n",
    "These are just a few examples, there are many other statistical distributions. All distributions are used to model data depending on its characteristics. Data is described using variables. Given a random variable FOO you can get different values. Think of your values that variable FOO can take as a output from some model. You can estimate probability of different outcomes for variable FOO. A probability distribution function assigns probabilies to values that FOO can possibly take."
   ]
  },
  {
   "cell_type": "code",
   "execution_count": 1,
   "metadata": {},
   "outputs": [],
   "source": [
    "%matplotlib inline\n",
    "import matplotlib.pyplot as plt\n",
    "from IPython.display import Math, Latex\n",
    "from IPython.core.display import Image\n",
    "import seaborn as sns"
   ]
  },
  {
   "cell_type": "code",
   "execution_count": 4,
   "metadata": {},
   "outputs": [
    {
     "data": {
      "image/png": "[encoded data removed]",
      "text/plain": [
       "<Figure size 432x288 with 1 Axes>"
      ]
     },
     "metadata": {
      "needs_background": "light"
     },
     "output_type": "display_data"
    }
   ],
   "source": [
    "from scipy.stats import uniform\n",
    "n, start, width = 1000, 10, 20\n",
    "uni_data = uniform.rvs(size=n, loc = start, scale = width)\n",
    "ax = sns.distplot(uni_data, bins = 100, kde = True, hist_kws={\"linewidth\":15, 'alpha':1}\n",
    "    )"
   ]
  },
  {
   "cell_type": "markdown",
   "metadata": {},
   "source": [
    "### Classification of Variables\n",
    "Random variables are random in different ways:\n",
    "* discrete is a specified collection of values: count of  two Fair Coins/Dices.\n",
    "* continuous (arbitrarily exact values): time, speed.\n",
    "* mixed.\n",
    "\n",
    "*Discrete* variables are taking count values on a specified list (pixels, coins, votes) Think of light bulb, you can buy one or many, but can't buy half a bulb, neither 0.3. If you one day buy less than one or one and a half, please email me, because I then will need to update this article!\n",
    "\n",
    "*Continuous* variables are taking precise  values from a range of values that are pecise (temperature, time, height). The trick to remembering the continuous is like when you take away from you swedish language the value of 3.141592, it will still CONTINUE to lie on a range between 0.000001 and 10.00000 for example. \n",
    "\n",
    "As in the example of Pi value, continuous variables progressively take the values more and more precise- each value from range of descriptive values must exist in order to arrive at the next one. Like when I drink some water the volume of my glass is a perfectly continuous variable even if I am not aware of every floating point value of volume that I am swallowing, wich is fine.\n",
    "\n",
    "Chances are good we can become best friends if you are still reading this- email me, buddy!\n",
    "\n",
    "Mixed variable are having discrete component and continuous component.\n",
    "\n"
   ]
  },
  {
   "cell_type": "markdown",
   "metadata": {},
   "source": [
    "### Normal Distribution\n",
    "Gaussian distribution (as it is also called) is attributed to several measues for stuff around, it's  everywhere. Weight of apples of same variety, height of people you stumble upon. The values that that registered for these attributes are normally distributed."
   ]
  },
  {
   "cell_type": "code",
   "execution_count": null,
   "metadata": {},
   "outputs": [],
   "source": []
  },
  {
   "cell_type": "markdown",
   "metadata": {},
   "source": [
    "### References\n",
    "1. <https://towardsdatascience.com/seven-must-know-statistical-distributions-and-their-simulations-for-data-science-681c5ac41e32>\n",
    "    \n",
    "2. Davidson-Pilon, Cameron. Bayesian Methods for Hackers (Addison-Wesley Data & Analytics) (p. 35). Pearson Education. Kindle Edition. \n",
    "\n",
    "3. <https://en.wikipedia.org/wiki/List_of_probability_distributions>"
   ]
  },
  {
   "cell_type": "code",
   "execution_count": null,
   "metadata": {},
   "outputs": [],
   "source": []
  }
 ],
 "metadata": {
  "kernelspec": {
   "display_name": "Python 3",
   "language": "python",
   "name": "python3"
  },
  "language_info": {
   "codemirror_mode": {
    "name": "ipython",
    "version": 3
   },
   "file_extension": ".py",
   "mimetype": "text/x-python",
   "name": "python",
   "nbconvert_exporter": "python",
   "pygments_lexer": "ipython3",
   "version": "3.7.3"
  }
 },
 "nbformat": 4,
 "nbformat_minor": 2
}
