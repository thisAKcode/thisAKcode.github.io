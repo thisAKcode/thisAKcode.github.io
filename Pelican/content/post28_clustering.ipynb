{
 "cells": [
  {
   "cell_type": "markdown",
   "metadata": {},
   "source": [
    "- title: Clustering\n",
    "- author: Alex\n",
    "- date: 2023-06-06\n",
    "- category: python"
   ]
  },
  {
   "cell_type": "markdown",
   "metadata": {},
   "source": [
    "### Intro\n",
    "\n",
    "Cluster analysis is the method in data analysis that is used to classify data points. Clustering pick out pattern in unlabeled data and group items in meaningful way. As a programmer you have to write scripts that learns the inherent structure of the data with no labeled examples provided (unsupervised learning). The program under the hood analyzes the data it encounters and tries to identify patterns and group the data on output.\n",
    "\n",
    "There are several applications:\n",
    "- recommendation/search engines search results by grouping similar items (products or topics) in appropriate cluster.\n",
    "- market segmentation: group customers by geography, demography, and behaviours.\n",
    "- image segmentation: medical imaging or road scene classification."
   ]
  },
  {
   "cell_type": "markdown",
   "metadata": {},
   "source": [
    "### Hierarchical Clustering Illustrated\n",
    "\n",
    "Performing hierarchical clustering implies the fusion of clusters at different levels, starting from clusters of individual data points and progressively merging even those clusters with other clusters on some condition. There are two parameters that are important for clustering: number of groups and similarity metrics. \n",
    "\n",
    "Let's assume you want to group the following data points into clusters:\n",
    "\n",
    "`datapoints = ['A', 'B', 'C', 'D', 'E']`\n",
    "\n",
    "We'll start by calculating the distances between each pair of data points and create a distance matrix:\n",
    "\n",
    "\n",
    "|   | A | B | C | D | E |\n",
    "|---|---|---|---|---|---|\n",
    "| A | 0 |   |   |   |   |\n",
    "| B |   | 0 |   |   |   |\n",
    "| C |   |   | 0 |   |   |\n",
    "| D |   |   |   | 0 |   |\n",
    "| E |   |   |   |   | 0 |\n",
    "\n",
    "Next, we'll find the closest pair of data points and merge them into a cluster:\n",
    "```\n",
    "A B C D E\n",
    "\\ / | | |\n",
    " AB C D E\n",
    "```\n",
    "We update the distance matrix by calculating the distance between the newly formed cluster (AB) and the remaining data points:\n",
    "\n",
    "|    |  AB |  C |  D |  E |\n",
    "|----|-----|----|----|----|\n",
    "| AB |  0  |    |    |    |\n",
    "| C  |     |  0 |    |    |\n",
    "| D  |     |    |  0 |    |\n",
    "| E  |     |    |    |  0 |\n",
    "\n",
    "Repeat the process by finding the next closest pair and merging them: \n",
    "```\n",
    " AB C D E\n",
    "  \\ / \\/\n",
    "  ABC DE\n",
    "```\n",
    "Update the distance matrix:\n",
    "\n",
    "|    | ABC |  D | E |\n",
    "|----|-----|----|---|\n",
    "| ABC|  0  |    |   |\n",
    "| D  |     |  0 |   |\n",
    "| E  |     |    | 0 |\n",
    "\n",
    "\n",
    "Finally, merge the last two clusters:\n",
    "\n",
    "```\n",
    "ABC DE\n",
    "  \\ /\n",
    " ABCDE\n",
    "```\n",
    "\n",
    "\n",
    "And that's how hierarchical clustering works! Start with individual data points and iteratively merge them until we have a single cluster containing all the data points."
   ]
  },
  {
   "cell_type": "markdown",
   "metadata": {},
   "source": [
    "### Cutting Clustering Tree\n",
    "A hierarchical clustering tree is called a dendrogram because of the hierarchical relationships resembling a tree like a decision tree, but in reverse. With all disjoint points being small branches that iteratively finds groupings of similar points all the way down the root.\n",
    "\n",
    "Dividing a dendrogram at various levels gives you m different groups. The concept of \"clustering tree cut\" refers to the process of dividing a dendrogram at a certain level to obtain a specific number of clusters. \n",
    "\n",
    "#####  François Husson Series On Clustering Analysis\n",
    "Need a nice intro to hierarchical clustering analysis? <this video> gives a super nice illustration of hierarchical clustering:\n",
    "Get points. Think the pairwise Euclidean Distance from point to point. Algorithm do the following until it group together every point:\n",
    "\n",
    "1. Assign each point its own unique cluster.\n",
    "2. While number of clusters > 1:\n",
    "\n",
    "    a. Compute all inter-cluster, pairwise distances and put them in a matrix.\n",
    "    \n",
    "    b. Find the pair of clusters with the smallest distance between.\n",
    "    \n",
    "    c. Dissolve them into common cluster.\n",
    "    \n",
    "    d. Compute the new pairwise, inter-cluster dissimilarities inclusive lastly merged one.\n",
    "\n",
    "After the first iteration, step 2a requires you to pick a linkage function for handling inter-cluster calculation:\n",
    "\n",
    "Complete: Of all pairwise dissimilarities and the max is chosen.\n",
    "\n",
    "Single: Of all pairwise dissimilarities and the min is chosen.\n",
    "\n",
    "Average: Take an average of all pairwise dissimilarities.\n",
    "\n",
    "Centroid: Average the points in each cluster, then compute the pairwise dissimilarity\n"
   ]
  },
  {
   "cell_type": "markdown",
   "metadata": {},
   "source": [
    "### K-Nearest Neighbors (KNN)\n",
    "In the following video at 16:48\n",
    "<https://youtu.be/ThS4juptJjQ> Joel Grus explains how to use itertools for k-means clustering which is both good for understanding clustering analysis and itertools. I recap Joel's explanation of KNN: given several data points k-means algorithm do the following until it assigned group to every point or reached max number of iterations:\n",
    "\n",
    "1. Make k random points the initial centroids.\n",
    "2. Calculate the Euclidean distance between points to each centroid and assign the point to the cluster with the nearest centroid.\n",
    "3. Recalculate the centroids of each cluster by taking the mean of all the data points assigned to that cluster.\n",
    "4. Repeat steps 2 and 3 until current & previous iterations centroids pass convergence check* or the maximum number of iterations is reached.\n",
    "    > `*` convergence check: control whether the centroids have converged by comparing the new centroids with the previous centroids: quit loop if threshold get too small while comparing between iterations. "
   ]
  },
  {
   "cell_type": "markdown",
   "metadata": {},
   "source": [
    "### K-Means Clustering\n",
    "Sometimes eyballing is enough to identify the pattern:"
   ]
  },
  {
   "cell_type": "code",
   "execution_count": 1,
   "metadata": {},
   "outputs": [
    {
     "name": "stderr",
     "output_type": "stream",
     "text": [
      "c:\\program files\\python37\\lib\\site-packages\\ipykernel_launcher.py:24: DeprecationWarning: `np.float` is a deprecated alias for the builtin `float`. To silence this warning, use `float` by itself. Doing this will not modify any behavior and is safe. If you specifically wanted the numpy scalar type, use `np.float64` here.\n",
      "Deprecated in NumPy 1.20; for more details and guidance: https://numpy.org/devdocs/release/1.20.0-notes.html#deprecations\n"
     ]
    },
    {
     "data": {
      "text/plain": [
       "<Figure size 400x300 with 1 Axes>"
      ]
     },
     "metadata": {},
     "output_type": "display_data"
    }
   ],
   "source": [
    "import matplotlib.pyplot as plt\n",
    "from mpl_toolkits.mplot3d import Axes3D\n",
    "from sklearn import datasets\n",
    "import numpy as np\n",
    "iris = datasets.load_iris()\n",
    "x, y = iris.data, iris.target\n",
    "\n",
    "fignum = 1\n",
    "\n",
    "fig = plt.figure(fignum, figsize=(4, 3))\n",
    "\n",
    "ax = Axes3D(fig, rect=[0, 0, .95, 1], elev=48, azim=134)\n",
    "\n",
    "for name, label in [('Complex code', 0),\n",
    "                    ('Cheese', 1),\n",
    "                    ('Socs', 2)]:\n",
    "    ax.text3D(x[y == label, 3].mean(),\n",
    "              x[y == label, 0].mean(),\n",
    "              x[y == label, 2].mean() + 2, name,\n",
    "              horizontalalignment='center',\n",
    "              bbox=dict(alpha=.2, edgecolor='w', facecolor='w'))\n",
    "\n",
    "# Reorder the labels to have colors matching the cluster results\n",
    "y = np.choose(y, [1, 2, 0]).astype(np.float)\n",
    "ax.scatter(x[:, 3], x[:, 0], x[:, 2], c=y, edgecolor='k')\n",
    "\n",
    "ax.w_xaxis.set_ticklabels([])\n",
    "ax.w_yaxis.set_ticklabels([])\n",
    "ax.w_zaxis.set_ticklabels([])\n",
    "\n",
    "ax.set_xlabel('smells')\n",
    "ax.set_ylabel('have holes')\n",
    "ax.set_zlabel('used every morning')\n",
    "ax.dist = 12\n",
    "\n",
    "plt.show()"
   ]
  },
  {
   "cell_type": "markdown",
   "metadata": {},
   "source": [
    "### K-Means... Why Should I Care?\n",
    "The goal of clustering is to classify data putting similar records into the same group. K-Means otputs dataset with datapoints attributed with 'K' clusters (groups), based on the 'Means' (the average distance) of datapoints to each cluster center. Algoritm does the following until it aggregate together points into k clusters that converge:\n",
    "\n",
    "    1. Place k random centroids for dummy clusters.\n",
    "    while  clusters not converge:\n",
    "        A. Assign data points to the nearest centroid.\n",
    "        B. Update centroids.\n",
    "\n",
    "Once our clusters are proven good, we can take a set of unlabeled datapoints and thanks to k-means can quickly assign it to the appropriate cluster. Let's step through the execution of an algorithm applying it on canonical dataset: iris."
   ]
  },
  {
   "cell_type": "code",
   "execution_count": 2,
   "metadata": {},
   "outputs": [],
   "source": [
    "def foo():\n",
    "    print('foo')\n"
   ]
  },
  {
   "cell_type": "code",
   "execution_count": 3,
   "metadata": {},
   "outputs": [
    {
     "data": {
      "image/png": "[encoded data removed]",
      "text/plain": [
       "<Figure size 432x288 with 1 Axes>"
      ]
     },
     "metadata": {
      "needs_background": "light"
     },
     "output_type": "display_data"
    }
   ],
   "source": [
    "import matplotlib.pyplot as plt\n",
    "import numpy as np\n",
    "import pandas as pd\n",
    "from sklearn import datasets\n",
    "from copy import deepcopy\n",
    "from scipy.spatial.distance import euclidean as euclids\n",
    "\n",
    "colors = ['r', 'g', 'b']\n",
    "iris = datasets.load_iris()\n",
    "\n",
    "samples = iris.data\n",
    "\n",
    "x = samples[:,0] # select all rows & the first column == length\n",
    "y = samples[:,1] # select all rows & the second column == width\n",
    "\n",
    "sepals_length_width = np.array(list(zip(x, y)))\n",
    "\n",
    "k = 3\n",
    "\n",
    "\n",
    "def mean_of_arrays(arrays):\n",
    "    return np.mean(arrays, axis=0)\n",
    "\n",
    "def centroid_setter(centroids):\n",
    "    \n",
    "    # function that utilises [centroids, centroids_old,error]\n",
    "    # outputs updated [centroids, centroids_old,error, labels]\n",
    "    labels_local = []\n",
    "    # initiate original centroids & set to 0\n",
    "    centroids_old = np.zeros(centroids.shape)\n",
    "    \n",
    "    # compute initial error between centoids and centroids\n",
    "    error = np.array([euclids(centroids[i], centroids_old[i]) for i in range(0,3)])\n",
    "    \n",
    "    while error.all() != 0:\n",
    "\n",
    "        # Step 2: Assign samples to nearest centroid\n",
    "        # Outer loop iterating over a main existing iterable (sepal sizes) \n",
    "        # and performing distance computation against each element \n",
    "        # from another iterable (centroids).\n",
    "        distances = [np.array(\n",
    "          [euclids(sepal, centroid) for centroid in centroids])\n",
    "          for sepal in sepals_length_width\n",
    "          ]\n",
    "        '''[array([1.46083772, 1.93544683, 1.07244051]), \n",
    "            array([1.3633286 , 1.85511742, 1.40332757]), \n",
    "            array([1.62618076, 2.11872523, 1.15073636]), ...]'''\n",
    "        # returns indices for the min value in each sublist\n",
    "        labels_local = np.array([np.argmin(item) for item in distances])  # [2 1 2 ...]\n",
    "        # save old centroids \n",
    "        # Update centroids based on the above-assigned data samples.\n",
    "        centroids_old = deepcopy(centroids)\n",
    "\n",
    "        # Step 3 Find new centers by averaging within clustered groups of points. \n",
    "        # using the .mean() function.\n",
    "        df = pd.DataFrame({\n",
    "                            'data': list(sepals_length_width), \n",
    "                            'label': labels_local\n",
    "                          })\n",
    "        # Group by 'label' and apply the custom aggregation function\n",
    "        result = df.groupby('label')['data'].agg(mean_of_arrays)\n",
    "        centroids = np.array(result.values.tolist())\n",
    "\n",
    "        # Step 4 write main while loop to reassign cluster labels to points \n",
    "        # and compute errors\n",
    "        # untill cluster centroids convergence (centroids stabilize)\n",
    "        error = np.array([euclids(centroids[i], centroids_old[i]) for i in range(0,3)])\n",
    "    return (centroids, labels_local)\n",
    "\n",
    "\n",
    "if __name__ == \"__main__\":\n",
    "    # Step 1: Choose k random centroids for the initial clusters\n",
    "    # whithin a range (min to max) of initial values \n",
    "    centroids_x = np.random.uniform(min(x), max(x), size=k)\n",
    "    centroids_y = np.random.uniform(min(y), max(y), size=k)\n",
    "    centroids = np.array(list(zip(centroids_x, centroids_y)))\n",
    "\n",
    "    # compute updated k means komponents\n",
    "    centroids, _labels = centroid_setter(centroids)\n",
    "    \n",
    "    for i in range(k):\n",
    "      points = np.array([sepals_length_width[j] for j in range(len(samples)) if _labels[j] == i])\n",
    "      plt.scatter(points[:, 0], points[:, 1], c=colors[i], alpha=0.5)\n",
    "      plt.scatter(centroids[i][0], centroids[i][1], marker='v', c=colors[i], s=300)\n",
    "    plt.xlabel('sepal length (cm)')\n",
    "    plt.ylabel('sepal width (cm)')\n",
    "\n",
    "    plt.show()"
   ]
  },
  {
   "cell_type": "markdown",
   "metadata": {},
   "source": [
    "### K means out of the box \n",
    "\n",
    "To implement K-Means clustering from scratch is fun experience but once you wrap your head around K-Means algoritm or even without it you can use the scikit-learn library <https://scikit-learn.org/stable/>."
   ]
  },
  {
   "cell_type": "code",
   "execution_count": 4,
   "metadata": {},
   "outputs": [
    {
     "data": {
      "image/png": "[encoded data removed]",
      "text/plain": [
       "<Figure size 432x288 with 1 Axes>"
      ]
     },
     "metadata": {
      "needs_background": "light"
     },
     "output_type": "display_data"
    }
   ],
   "source": [
    "from sklearn.cluster import KMeans\n",
    "\n",
    "k = 3\n",
    "X = samples\n",
    "\n",
    "# step 1, instantiate model using class the KMeans() to find k clusters.\n",
    "# Step 2&3: Assign point samples to nearest centroid\n",
    "# and performing distance computation between each element \n",
    "# and each  centroids.\n",
    "#   Find new centers by averaging within clustered groups of points. \n",
    "# using the .mean() function.\n",
    "# Step 4 cluster centroids computed through iterations\n",
    "# good to use for determining the labels of samples\n",
    "km = KMeans(n_clusters=3, random_state=0).fit(X)\n",
    "\n",
    "# Use .predict() to determine the labels of samples \n",
    "plt.scatter(X[:, 0], X[:, 1], s=20, c=km.labels_, alpha=0.5) #   X[:, 3], X[:, 0], X[:, 2]\n",
    "plt.scatter(km.cluster_centers_[:, 0], km.cluster_centers_[:, 1],s= 50, c=\"r\")\n",
    "plt.xlabel('sepal length (cm)')\n",
    "plt.ylabel('sepal width (cm)')\n",
    "\n",
    "plt.show()"
   ]
  },
  {
   "cell_type": "markdown",
   "metadata": {},
   "source": [
    "### K-Means on New Data: Unsuperwised ML in Action\n",
    "\n",
    "Now you can make use of a model that computed K-Means clustering. Feed new data samples to obtain the cluster labels using the .predict() method based on that model. \n",
    "\n",
    "Given n new unidentified Irises we can pass their features (petals dimensions) into the model and obtain the labels."
   ]
  },
  {
   "cell_type": "code",
   "execution_count": 5,
   "metadata": {},
   "outputs": [],
   "source": [
    "import numpy as np\n",
    "\n",
    "# Create random data that is similar to Iris Setosa\n",
    "new_samples = np.array([[5.34835708, 3.43086785, 1.46476885, 0.35230299],\n",
    "       [6.98292331, 3.38293152, 1.55792128, 0.27674347],\n",
    "       [5.86526281, 2.77128002, 5.35365823, 0.15342702],\n",
    "       [5.1, 3.5, 1.4, 0.2],\n",
    "       [4.9, 3. , 1.4, 0.2],\n",
    "       [4.7, 2.2,  5.3, 0.2],\n",
    "       [4.6, 3.1, 1.5, 0.2],\n",
    "       [5. , 3.6, 1.4, 0.2],\n",
    "       [5.4, 3.9, 1.7, 0.4]])\n"
   ]
  },
  {
   "cell_type": "code",
   "execution_count": 6,
   "metadata": {},
   "outputs": [
    {
     "data": {
      "text/plain": [
       "array([1, 1, 2, 1, 1, 2, 1, 1, 1])"
      ]
     },
     "execution_count": 6,
     "metadata": {},
     "output_type": "execute_result"
    }
   ],
   "source": [
    "# Use .predict() to determine the labels of samples \n",
    "labels = km.predict(new_samples)\n",
    "labels"
   ]
  },
  {
   "cell_type": "code",
   "execution_count": 7,
   "metadata": {},
   "outputs": [
    {
     "data": {
      "text/plain": [
       "Text(0, 0.5, 'sepal width (cm)')"
      ]
     },
     "execution_count": 7,
     "metadata": {},
     "output_type": "execute_result"
    },
    {
     "data": {
      "image/png": "[encoded data removed]",
      "text/plain": [
       "<Figure size 432x288 with 1 Axes>"
      ]
     },
     "metadata": {
      "needs_background": "light"
     },
     "output_type": "display_data"
    }
   ],
   "source": [
    "plt.scatter(new_samples[:, 0], new_samples[:, 1], s=20, c=labels, alpha=0.5) # X[:, 3], X[:, 0], X[:, 2]\n",
    "plt.scatter(km.cluster_centers_[:, 0], km.cluster_centers_[:, 1],s= 50, c=\"r\")\n",
    "plt.xlabel('sepal length (cm)')\n",
    "plt.ylabel('sepal width (cm)')"
   ]
  },
  {
   "cell_type": "markdown",
   "metadata": {},
   "source": [
    "### Model Validation: How Accurate Are the Clusters?\n",
    "\n",
    "When working with models we are able to evaluate the correspondence between the clusters and the actual categories (in this case iris species). The dataset in scikit-learn comes with actual (target) values for each sample."
   ]
  },
  {
   "cell_type": "code",
   "execution_count": 8,
   "metadata": {},
   "outputs": [
    {
     "name": "stdout",
     "output_type": "stream",
     "text": [
      ".. _iris_dataset:\n",
      "\n",
      "Iris plants dataset\n",
      "--------------------\n",
      "\n",
      "**Data Set Characteristics:**\n",
      "\n",
      "    :Number of Instances: 150 (50 in each of three classes)\n",
      "    :Number of Attributes: 4 numeric, predictive attributes and the class\n",
      "    :Attribute Information:\n",
      "        - sepal length in cm\n",
      "        - sepal width in cm\n",
      "        - petal length in cm\n",
      "        - petal width in cm\n",
      "        - class:\n",
      "                - Iris-Setosa\n",
      "                - Iris-Versicolour\n",
      "                - Iris-Virginica\n",
      "                \n",
      "    :Summary Statistics:\n",
      "\n",
      "    ============== ==== ==== ======= ===== ====================\n",
      "                    Min  Max   Mean    SD   Class Correlation\n",
      "    ============== ==== ==== ======= ===== ====================\n",
      "    sepal length:   4.3  7.9   5.84   0.83    0.7826\n",
      "    sepal width:    2.0  4.4   3.05   0.43   -0.4194\n",
      "    petal length:   1.0  6.9   3.76   1.76    0.9490  (high!)\n",
      "    petal width:    0.1  2.5   1.20   0.76    0.9565  (high!)\n",
      "    ============== ==== ==== ======= ===== ====================\n",
      "\n",
      "    :Missing Attribute Values: None\n",
      "    :Class Distribution: 33.3% for each of 3 classes.\n",
      "    :Creator: R.A. Fisher\n",
      "    :Donor: Michael Marshall (MARSHALL%PLU@io.arc.nasa.gov)\n",
      "    :Date: July, 1988\n",
      "\n",
      "The famous Iris database, first used by Sir R.A. Fisher. The dataset is taken\n",
      "from Fisher's paper. Note that it's the same as in R, but not as in the UCI\n",
      "Machine Learning Repository, which has two wrong data points.\n",
      "\n",
      "This is perhaps the best known database to be found in the\n",
      "pattern recognition literature.  Fisher's paper is a classic in the field and\n",
      "is referenced frequently to this day.  (See Duda & Hart, for example.)  The\n",
      "data set contains 3 classes of 50 instances each, where each class refers to a\n",
      "type of iris plant.  One class is linearly separable from the other 2; the\n",
      "latter are NOT linearly separable from each other.\n",
      "\n",
      ".. topic:: References\n",
      "\n",
      "   - Fisher, R.A. \"The use of multiple measurements in taxonomic problems\"\n",
      "     Annual Eugenics, 7, Part II, 179-188 (1936); also in \"Contributions to\n",
      "     Mathematical Statistics\" (John Wiley, NY, 1950).\n",
      "   - Duda, R.O., & Hart, P.E. (1973) Pattern Classification and Scene Analysis.\n",
      "     (Q327.D83) John Wiley & Sons.  ISBN 0-471-22361-1.  See page 218.\n",
      "   - Dasarathy, B.V. (1980) \"Nosing Around the Neighborhood: A New System\n",
      "     Structure and Classification Rule for Recognition in Partially Exposed\n",
      "     Environments\".  IEEE Transactions on Pattern Analysis and Machine\n",
      "     Intelligence, Vol. PAMI-2, No. 1, 67-71.\n",
      "   - Gates, G.W. (1972) \"The Reduced Nearest Neighbor Rule\".  IEEE Transactions\n",
      "     on Information Theory, May 1972, 431-433.\n",
      "   - See also: 1988 MLC Proceedings, 54-64.  Cheeseman et al\"s AUTOCLASS II\n",
      "     conceptual clustering system finds 3 classes in the data.\n",
      "   - Many, many more ...\n"
     ]
    }
   ],
   "source": [
    "print(iris['DESCR'])"
   ]
  },
  {
   "cell_type": "code",
   "execution_count": 9,
   "metadata": {},
   "outputs": [],
   "source": [
    "target = iris.target\n",
    "#array([0, 0, 0,... 2, 2, 2, 2, 2, 2])"
   ]
  },
  {
   "cell_type": "markdown",
   "metadata": {},
   "source": [
    "According to description each target index corresponds to species:\n",
    "...\n",
    "                - Iris-Setosa\n",
    "                - Iris-Versicolour\n",
    "                - Iris-Virginica\n",
    "\n",
    "    All the  Iris-setosa are 0's\n",
    "    All the Iris-versicolor are 1's\n",
    "    All the Iris-virginica are 2's\n"
   ]
  },
  {
   "cell_type": "markdown",
   "metadata": {},
   "source": [
    "Remember the Iris species are clustered into each of the labels accordingly to k-means.To compare labels from clustering with the corresponding (original) Iris species attribute we can perform cross-tabulation."
   ]
  },
  {
   "cell_type": "code",
   "execution_count": 10,
   "metadata": {},
   "outputs": [],
   "source": [
    "import matplotlib.pyplot as plt\n",
    "import numpy as np\n",
    "from sklearn import datasets\n",
    "from sklearn.cluster import KMeans\n",
    "import pandas as pd\n",
    "\n",
    "iris = datasets.load_iris()\n",
    "\n",
    "samples = iris.data\n",
    "target = iris.target\n",
    "\n",
    "model = KMeans(n_clusters=3)\n",
    "\n",
    "model.fit(samples)\n",
    "\n",
    "labels = model.predict(samples)\n",
    "\n",
    "\n",
    "k = 3\n",
    "X = samples\n",
    "\n",
    "# step 1, instantiate model using class the KMeans() to find k clusters.\n",
    "# Step 2&3: Assign point samples to nearest centroid\n",
    "# and performing distance computation between each element \n",
    "# and each  centroids.\n",
    "#   Find new centers by averaging within clustered groups of points. \n",
    "# using the .mean() function.\n",
    "# Step 4 cluster centroids computed through iterations\n",
    "# good to use for determining the labels of samples\n",
    "km = KMeans(n_clusters=3, random_state=0).fit(X)\n",
    "\n",
    "labels = km.predict(samples)"
   ]
  },
  {
   "cell_type": "code",
   "execution_count": 11,
   "metadata": {},
   "outputs": [
    {
     "name": "stdout",
     "output_type": "stream",
     "text": [
      "\n",
      "crosstab:\n",
      "\n",
      "labels       0   1   2\n",
      "species               \n",
      "setosa       0  50   0\n",
      "versicolor   2   0  48\n",
      "virginica   36   0  14\n"
     ]
    }
   ],
   "source": [
    "candidates = ['setosa','versicolor','virginica']\n",
    "\n",
    "species = [candidates[target_index] for target_index in target] \n",
    "'''\n",
    "chararray([b'setosa', b'setosa', b'setosa', b'setosa', b'setosa',\n",
    "           b'setosa', b'setosa', b'setosa', b'setosa', b'setosa',\n",
    "           b'setosa', b'setosa', b'setosa', b'setosa', b'setosa',\n",
    "           b'setosa', b'setosa', b'setosa', b'setosa', b'setosa',\n",
    "           b'setosa', b'setosa', b'setosa', b'setosa', b'setosa',\n",
    "           ...\n",
    "           b'virginica', b'virginica', b'virginica', b'virginica'],\n",
    "          dtype='|S15')\n",
    "'''\n",
    "\n",
    "df = pd.DataFrame({'labels': labels, 'species': species})\n",
    "# print(df.head(10))\n",
    "ct = pd.crosstab(df['species'],df['labels'])\n",
    "print('\\ncrosstab:\\n')\n",
    "print(ct)"
   ]
  },
  {
   "cell_type": "markdown",
   "metadata": {},
   "source": [
    "By looking at cross table, you can conclude that species are clustered (attributed different labels) with different accuracy,  the worst being: Iris-virginica because of not easily distinguishable petals. \n"
   ]
  },
  {
   "cell_type": "markdown",
   "metadata": {},
   "source": [
    "### Determine the Best Number of Clusters (Elbow Method)\n",
    "\n",
    "What are the metrics that says that the samples in each cluster are clustered together well?\n",
    "\n",
    "Maybe we reverse the problem by measuring the spread of the clusters (inertia). Inertia is the distance from each item to the centroid of its cluster. We strive to achieve the lower inertia to get better model untill it is not... Because it'll always be a trade-off between getting the low inertia and the least number of clusters."
   ]
  },
  {
   "cell_type": "code",
   "execution_count": 12,
   "metadata": {},
   "outputs": [
    {
     "name": "stdout",
     "output_type": "stream",
     "text": [
      "78.851441426146\n"
     ]
    }
   ],
   "source": [
    "print(model.inertia_)"
   ]
  },
  {
   "cell_type": "code",
   "execution_count": 13,
   "metadata": {},
   "outputs": [
    {
     "data": {
      "image/png": "[encoded data removed]",
      "text/plain": [
       "<Figure size 432x288 with 1 Axes>"
      ]
     },
     "metadata": {
      "needs_background": "light"
     },
     "output_type": "display_data"
    }
   ],
   "source": [
    "num_clusters = list(range(1, 9))\n",
    "inertias = [KMeans(n_clusters=k).fit(samples).inertia_ for k in num_clusters]\n",
    "plt.plot(num_clusters, inertias, '-o')\n",
    "\n",
    "plt.xlabel('Number of Clusters (k)')\n",
    "plt.ylabel('Inertia')\n",
    "\n",
    "plt.show()"
   ]
  },
  {
   "cell_type": "markdown",
   "metadata": {},
   "source": [
    "### K-Means++ For Smarter Centroid Initialization\n",
    "\n",
    "Instead of completely random cetroid initialization we can help K-Means to initialize clusters by reducing cluster possibilities. The random initial placement of centroids is slow because it is taking into account all space for cluster placement when sometimes clusteres are around a certain corner.  \n",
    "Except performance the K-Means++ gives a different shape of clusters, which is measured by inertia. Jobb of data scientist is to get the lower (\"better\") inertia.\n",
    "\n",
    "Instead of Step 1 of the K-Means algorithm \"Place k random centroids for the initial clusters\". The K-Means++ initialization splits the general step 1 into the following:\n",
    "\n",
    "1. While len(centroids) < k:\n",
    "\n",
    "    a. Randomly pick one datapoint as the first cluster centroid\n",
    "    b. Compute the distance from each remaining point to its nearest cluster centroid\n",
    "    c. Pick next centroid based on probability proportional to the distance of each point to its nearest centroid: the next cluster centroid be far away from the already initialized centroids.\n",
    "\n",
    "    1.1 The first cluster centroid is randomly picked from the data points.\n",
    "    1.2 For each remaining data point, the distance from the point to its nearest cluster centroid is calculated.\n",
    "    1.3 The next cluster centroid is picked according to a probability proportional to the distance of each point to its nearest cluster centroid. This makes it likely for the next cluster centroid to be far away from the already initialized centroids.\n",
    "\n",
    "Repeat 1.b - 1.c until k centroids are chosen.\n",
    "\n",
    "All those things encomprised in scikit-learn method 'k-means ' parameter `init`: `model = KMeans(init=centroids, n_clusters=2)`."
   ]
  },
  {
   "cell_type": "markdown",
   "metadata": {},
   "source": [
    "### Scikit-learn k-means++\n",
    "In scikit-learn all you need to do to get improved model is to set argument of algorithm as follows `init=\"k-means++\"`. \n",
    "`model = KMeans(init=\"k-means++\", n_clusters = 2)` or even more concise - omit it `model = KMeans(n_clusters = 2)` (less explicit though). It gives a better performance and more optimal clustering than dummy k-means.\n"
   ]
  },
  {
   "cell_type": "markdown",
   "metadata": {},
   "source": [
    "### Hands-on k-means: Digit Recognition\n",
    "\n",
    "This dataset is all over the place. Matlab is the soft that can recognize handwritten mathematical formulae. But how do they train those modeld beings able to achieve it?\n",
    "\n",
    "After I load and return the digits dataset (classification) I follow all steps described in k-means section. "
   ]
  },
  {
   "cell_type": "code",
   "execution_count": 64,
   "metadata": {},
   "outputs": [
    {
     "name": "stdout",
     "output_type": "stream",
     "text": [
      ".. _digits_dataset:\n",
      "\n",
      "Optical recognition of handwritten digits dataset\n",
      "--------------------------------------------------\n",
      "\n",
      "**Data Set Characteristics:**\n",
      "\n",
      "    :Number of Instances: 5620\n",
      "    :Number of Attributes: 64\n",
      "    :Attribute Information: 8x8 image of integer pixels in the range 0..16.\n",
      "    :Missing Attribute Values: None\n",
      "    :Creator: E. Alpaydin (alpaydin '@' boun.edu.tr)\n",
      "    :Date: July; 1998\n",
      "\n",
      "This is a copy of the test set of the UCI ML hand-written digits datasets\n",
      "https://archive.ics.uci.edu/ml/datasets/Optical+Recognition+of+Handwritten+Digits\n",
      "\n",
      "The data set contains images of hand-written digits: 10 classes where\n",
      "each class refers to a digit.\n",
      "\n",
      "Preprocessing programs made available by NIST were used to extract\n",
      "normalized bitmaps of handwritten digits from a preprinted form. From a\n",
      "total of 43 people, 30 contributed to the training set and different 13\n",
      "to the test set. 32x32 bitmaps are divided into nonoverlapping blocks of\n",
      "4x4 and the number of on pixels are counted in each block. This generates\n",
      "an input matrix of 8x8 where each element is an integer in the range\n",
      "0..16. This reduces dimensionality and gives invariance to small\n",
      "distortions.\n",
      "\n",
      "For info on NIST preprocessing routines, see M. D. Garris, J. L. Blue, G.\n",
      "T. Candela, D. L. Dimmick, J. Geist, P. J. Grother, S. A. Janet, and C.\n",
      "L. Wilson, NIST Form-Based Handprint Recognition System, NISTIR 5469,\n",
      "1994.\n",
      "\n",
      ".. topic:: References\n",
      "\n",
      "  - C. Kaynak (1995) Methods of Combining Multiple Classifiers and Their\n",
      "    Applications to Handwritten Digit Recognition, MSc Thesis, Institute of\n",
      "    Graduate Studies in Science and Engineering, Bogazici University.\n",
      "  - E. Alpaydin, C. Kaynak (1998) Cascading Classifiers, Kybernetika.\n",
      "  - Ken Tang and Ponnuthurai N. Suganthan and Xi Yao and A. Kai Qin.\n",
      "    Linear dimensionalityreduction using relevance weighted LDA. School of\n",
      "    Electrical and Electronic Engineering Nanyang Technological University.\n",
      "    2005.\n",
      "  - Claudio Gentile. A New Approximate Maximal Margin Classification\n",
      "    Algorithm. NIPS. 2000.\n",
      "[[ 0.  0.  5. ...  0.  0.  0.]\n",
      " [ 0.  0.  0. ... 10.  0.  0.]\n",
      " [ 0.  0.  0. ... 16.  9.  0.]\n",
      " ...\n",
      " [ 0.  0.  1. ...  6.  0.  0.]\n",
      " [ 0.  0.  2. ... 12.  0.  0.]\n",
      " [ 0.  0. 10. ... 12.  1.  0.]]\n"
     ]
    }
   ],
   "source": [
    "import numpy as np\n",
    "from sklearn.cluster import KMeans\n",
    "from matplotlib import pyplot as plt\n",
    "from sklearn import datasets\n",
    "\n",
    "digits = datasets.load_digits()\n",
    "\n",
    "print(digits.DESCR)\n",
    "print(digits.data) # returns a list where each value is a pixel color(0-16)"
   ]
  },
  {
   "cell_type": "code",
   "execution_count": 15,
   "metadata": {},
   "outputs": [
    {
     "data": {
      "image/png": "[encoded data removed]",
      "text/plain": [
       "<Figure size 288x288 with 64 Axes>"
      ]
     },
     "metadata": {},
     "output_type": "display_data"
    }
   ],
   "source": [
    "fig = plt.figure(figsize=(4, 4))\n",
    "fig.subplots_adjust(left=0, right=1, bottom=0, top=1, hspace=0.05, wspace=0.05)\n",
    "\n",
    "for i in range(64):\n",
    "    \n",
    "    ax = fig.add_subplot(8, 8, i+1, xticks=[], yticks=[])\n",
    "\n",
    "    ax.imshow(digits.images[i], cmap=plt.cm.binary, interpolation='nearest')\n",
    "\n",
    "    ax.text(0, 7, str(digits.target[i]))\n",
    "\n",
    "plt.show()"
   ]
  },
  {
   "cell_type": "markdown",
   "metadata": {},
   "source": [
    "### Visualize centroids"
   ]
  },
  {
   "cell_type": "code",
   "execution_count": 65,
   "metadata": {},
   "outputs": [
    {
     "data": {
      "image/png": "[encoded data removed]",
      "text/plain": [
       "<Figure size 576x216 with 10 Axes>"
      ]
     },
     "metadata": {
      "needs_background": "light"
     },
     "output_type": "display_data"
    }
   ],
   "source": [
    "model = KMeans(n_clusters= 10, random_state = 64)\n",
    "model.fit(digits.data)\n",
    "\n",
    "fig = plt.figure(figsize=(8, 3))\n",
    "fig.suptitle('Cluser Center Images', fontsize=14, fontweight='bold')\n",
    "for i in range(10):\n",
    "  ax = fig.add_subplot(2,5, 1 + i)\n",
    "  ax.imshow(model.cluster_centers_[i].reshape((8,8)), cmap = plt.cm.binary)\n",
    "plt.show()"
   ]
  },
  {
   "cell_type": "markdown",
   "metadata": {},
   "source": [
    "In this portion of code you get the list of 3 elements from digits.data `digits.data[:3]` Notice how centroids for 1 and 8 look similar and 1 and 4 also look very similar. It is important to understande why the classification is not going so well."
   ]
  },
  {
   "cell_type": "code",
   "execution_count": 78,
   "metadata": {},
   "outputs": [
    {
     "data": {
      "image/png": "[encoded data removed]",
      "text/plain": [
       "<Figure size 288x288 with 3 Axes>"
      ]
     },
     "metadata": {
      "needs_background": "light"
     },
     "output_type": "display_data"
    }
   ],
   "source": [
    "fig = plt.figure(figsize=(4, 4))\n",
    "for i in range(3):\n",
    "  ax = fig.add_subplot(2,5, 1 + i)\n",
    "  ax.imshow(new_samples[i].reshape((8,8)), cmap = plt.cm.binary)\n",
    "  ax.text(0, 7, str(digits.target[i]))\n",
    "plt.show()"
   ]
  },
  {
   "cell_type": "markdown",
   "metadata": {},
   "source": [
    "The skickit learn dataviz on that subject is just completely fantastic: <https://scikit-learn.org/stable/auto_examples/cluster/plot_kmeans_digits.html>. Here I continue with some hand written digits recognition, when I feed digits 0,1,2 into model by `model.predict()` where predict() receives an array with raster representation of [0,1,2]."
   ]
  },
  {
   "cell_type": "code",
   "execution_count": 79,
   "metadata": {},
   "outputs": [
    {
     "data": {
      "text/plain": [
       "array([5, 8, 8])"
      ]
     },
     "execution_count": 79,
     "metadata": {},
     "output_type": "execute_result"
    }
   ],
   "source": [
    "# for i in range(3) classify 3 first digits using \n",
    "new_samples = np.array(digits.data[:3]) # model.fit(digits.data) \n",
    "new_labels = model.predict(new_samples)\n",
    "(new_labels)"
   ]
  },
  {
   "cell_type": "code",
   "execution_count": 81,
   "metadata": {},
   "outputs": [
    {
     "name": "stdout",
     "output_type": "stream",
     "text": [
      "[8, 7, 7]\n"
     ]
    }
   ],
   "source": [
    "new_label_mapper = {0:0,1:9,2:2,3:1,4:6,5:8,6:4,7:5,8:7,9:3}\n",
    "print([new_label_mapper[i] for i in new_labels])"
   ]
  },
  {
   "cell_type": "markdown",
   "metadata": {},
   "source": [
    "Pretty bad, my eye sees the 012 and model predict that they are 877 istead. I will not use k means for digits recognition because centroids are not well isolated and can be mixed up with each others representation."
   ]
  },
  {
   "cell_type": "code",
   "execution_count": null,
   "metadata": {},
   "outputs": [],
   "source": []
  }
 ],
 "metadata": {
  "kernelspec": {
   "display_name": "Python 3",
   "language": "python",
   "name": "python3"
  },
  "language_info": {
   "codemirror_mode": {
    "name": "ipython",
    "version": 3
   },
   "file_extension": ".py",
   "mimetype": "text/x-python",
   "name": "python",
   "nbconvert_exporter": "python",
   "pygments_lexer": "ipython3",
   "version": "3.7.3"
  }
 },
 "nbformat": 4,
 "nbformat_minor": 2
}
