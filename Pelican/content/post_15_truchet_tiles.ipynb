{
 "cells": [
  {
   "cell_type": "markdown",
   "metadata": {},
   "source": [
    "- title: Truchet Tiles\n",
    "- author: Alex\n",
    "- date: 2022-05-21\n",
    "- category: art\n"
   ]
  },
  {
   "cell_type": "markdown",
   "metadata": {},
   "source": [
    "### Truchet Tiles\n",
    "\n",
    " Sebastien Truchet figured out how square tiles can be combined to form larger patterns. In the picture below you see tiles of different types to use as input for generating mosaics."
   ]
  },
  {
   "cell_type": "code",
   "execution_count": 4,
   "metadata": {},
   "outputs": [
    {
     "data": {
      "image/png": "[encoded data removed]",
      "text/plain": [
       "<IPython.core.display.Image object>"
      ]
     },
     "execution_count": 4,
     "metadata": {
      "image/png": {
       "width": 400
      }
     },
     "output_type": "execute_result"
    }
   ],
   "source": [
    "from IPython.display import Image\n",
    "Image(r'C:\\thisAKcode.github.io\\images\\truchet1.png', width = 400)"
   ]
  },
  {
   "cell_type": "markdown",
   "metadata": {},
   "source": [
    "### Linear optimisation for mosaicing grayscale images\n",
    "To make mosaics from a grayscale picture you need to group its pixels into k x k blocks and associate it with a tile. \n",
    "The blocks identified as ordered coordinate pairs (i,j). So the upper left block is (0,0) it's followed by (0,1), (0,2), …across the row.\n",
    "Block `(i, j)` is the block in row `i` and column `j`. \n",
    "For k=3 you have 9 pixels in a block- we compute the average of its 9 pixels' grayscale values and then divide the average by 255. \n",
    "This gives us a block brightness value `\\beta i, j` that falls somewhere in the closed interval [0, 1]. \n",
    "As before, 0 corresponds to black, but now 1 corresponds to white. \n",
    "For block (32, 34), the block in the upper-left corner of the part of the image that corresponds to Truchet's left eye, \n",
    "the average grayscale value is 154.11, so $ \\beta_i,_j  $ 32,34 = 154.11∕255 = 0.60. For block (36, 39), \n",
    "in the opposite corner, the average grayscale value is 241.67, so $ \\beta_i,_j  $ 36,39 = 241.67∕255 = 0.95. In other words, block (32, 34) is somewhat brighter"
   ]
  },
  {
   "cell_type": "markdown",
   "metadata": {},
   "source": [
    "Sources to go deep:\n",
    "https://nedbatchelder.com/blog/202205/cairo_in_jupyter_better.html\n",
    "https://stackoverflow.com/questions/60131389/organic-shape-that-fills-up-space-with-paper-js\n",
    "https://books.openedition.org/inha/4604"
   ]
  },
  {
   "cell_type": "markdown",
   "metadata": {},
   "source": []
  }
 ],
 "metadata": {
  "interpreter": {
   "hash": "5109d816b82be14675a6b11f8e0f0d2e80f029176ed3710d54e125caa8520dfd"
  },
  "kernelspec": {
   "display_name": "Python 3.7.3 64-bit",
   "language": "python",
   "name": "python3"
  },
  "language_info": {
   "codemirror_mode": {
    "name": "ipython",
    "version": 3
   },
   "file_extension": ".py",
   "mimetype": "text/x-python",
   "name": "python",
   "nbconvert_exporter": "python",
   "pygments_lexer": "ipython3",
   "version": "3.7.3"
  },
  "orig_nbformat": 4
 },
 "nbformat": 4,
 "nbformat_minor": 2
}
