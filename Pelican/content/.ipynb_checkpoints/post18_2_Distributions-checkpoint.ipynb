{
 "cells": [
  {
   "cell_type": "code",
   "execution_count": null,
   "metadata": {},
   "outputs": [],
   "source": [
    "- title: Statistical Distributions (Common ones)\n",
    "- author: Alex\n",
    "- date: 2022-10-17\n",
    "- category: python"
   ]
  },
  {
   "cell_type": "markdown",
   "metadata": {},
   "source": [
    "### Introduction\n",
    "Given a random variable Z you can get different values. Think of your values that variable Z can take as a output from some model. You can estimate probability of different outcomes for variable Z. A probability distribution function assigns probabilies to values that Z can possibly take."
   ]
  },
  {
   "cell_type": "markdown",
   "metadata": {},
   "source": [
    "### Classification of Variables\n",
    "Random variables Z are random in different ways:\n",
    "* discrete is a specified collection of values: count of  two Fair Coins/Dices.\n",
    "* continuous (arbitrarily exact values): time, speed.\n"
   ]
  },
  {
   "cell_type": "markdown",
   "metadata": {},
   "source": [
    "### Normal Distribution\n",
    "Gaussian distribution (as it is also called) is attributed to several measues for stuff around, it's  everywhere. Weight of apples of same variety, height of people you stumble upon. The values that that registered for these attributes are normally distributed."
   ]
  },
  {
   "cell_type": "code",
   "execution_count": null,
   "metadata": {},
   "outputs": [],
   "source": []
  },
  {
   "cell_type": "markdown",
   "metadata": {},
   "source": [
    "### References\n",
    "1. <https://towardsdatascience.com/seven-must-know-statistical-distributions-and-their-simulations-for-data-science-681c5ac41e32>\n",
    "    \n",
    "2. Davidson-Pilon, Cameron. Bayesian Methods for Hackers (Addison-Wesley Data & Analytics) (p. 35). Pearson Education. Kindle Edition. \n",
    "\n",
    "3. <https://en.wikipedia.org/wiki/List_of_probability_distributions>"
   ]
  },
  {
   "cell_type": "code",
   "execution_count": null,
   "metadata": {},
   "outputs": [],
   "source": []
  }
 ],
 "metadata": {
  "kernelspec": {
   "display_name": "Python 3",
   "language": "python",
   "name": "python3"
  },
  "language_info": {
   "codemirror_mode": {
    "name": "ipython",
    "version": 3
   },
   "file_extension": ".py",
   "mimetype": "text/x-python",
   "name": "python",
   "nbconvert_exporter": "python",
   "pygments_lexer": "ipython3",
   "version": "3.7.3"
  }
 },
 "nbformat": 4,
 "nbformat_minor": 2
}
