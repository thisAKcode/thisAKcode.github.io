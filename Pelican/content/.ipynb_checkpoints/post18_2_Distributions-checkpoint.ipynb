{
 "cells": [
  {
   "cell_type": "markdown",
   "metadata": {},
   "source": [
    "- title: Statistical Distributions (Common ones)\n",
    "- author: Alex\n",
    "- date: 2022-10-17\n",
    "- category: python"
   ]
  },
  {
   "cell_type": "markdown",
   "metadata": {},
   "source": [
    "### Introduction\n",
    "A probability distribution in statistics is a function that returns the possible values for a variable with different occurence rate (how often values occur). Distribution in nature and society tend to fit pattern with ocasionally occuring exceptions.\n",
    "\n",
    "####  Probability Mass Function\n",
    "Discrete random variable has probability mass function (PMF) being a particular type of *probability distribution* that defines the probability of observing some value given particular parameter. Random variables and corresponding probability distributions may be applied on many different kinds of problems. \n",
    "\n",
    "Probability distributions have parameters that make them adaptable for different situations. Here I named a few common distributions:\n",
    "* Normal Distribution\n",
    "* Binomial Distribution\n",
    "* Poisson Distribution\n",
    "* Exponential Distribution\n",
    "* Uniform Distribution\n",
    "\n",
    "These are many other distributions. All distributions are used to model data depending on its characteristics. \n",
    "### Random Variables\n",
    "Data is described using variables. Given a random variable FOO you can get different values. Think of your values that variable FOO can take as a output from some model. You can estimate probability of different outcomes for variable FOO. A probability distribution function assigns probabilies to values that FOO can possibly take.\n",
    "\n",
    "Random variables represent random events: the outcome of a die roll represents integers from one to six. Random variables are often numeric, and in order to represent categorical data for events with non-numeric outcomes, we can assigned numbers to represent those outcomes: \"heads\" a value of 1 and \"tails\" a value of 0. Here we have a code to simulate random outcomes occuring several times:"
   ]
  },
  {
   "cell_type": "code",
   "execution_count": 1,
   "metadata": {},
   "outputs": [
    {
     "name": "stdout",
     "output_type": "stream",
     "text": [
      "[2 1 5 6 1 6 2 3 5 2 6 1]\n",
      "['g' 'g' 'g' 'b' 'g' 'b' 'b' 'b' 'b' 'b' 'b' 'g']\n"
     ]
    }
   ],
   "source": [
    "import numpy as np\n",
    "\n",
    "die_6 = range(1, 7)\n",
    "boys_girls = ('b','g')\n",
    "\n",
    "rolls = np.random.choice(die_6, size = 12, replace = True)\n",
    "births =  np.random.choice(boys_girls, size = 12, replace = True)\n",
    "print(rolls)\n",
    "print(births)"
   ]
  },
  {
   "cell_type": "markdown",
   "metadata": {},
   "source": [
    "### Classification of Variables\n",
    "Random variables are random in different ways:\n",
    "* discrete is a specified collection of values: count of  two Fair Coins/Dices.\n",
    "* continuous (arbitrarily exact values): time, speed.\n",
    "* mixed.\n",
    "\n",
    "*Discrete* variables are taking count values on a specified list (pixels, coins, votes) Think of light bulb, you can buy one or many, but can't buy half a bulb, neither 0.3 because these are uncountable. In this case, the values must be countable in that they are limited to whole numbers.If you one day buy less than one or one and a half, I then will need to update this article!\n",
    "\n",
    "*Continuous* variables are taking precise  values from a range of values that are pecise (temperature, time, height). The value of 3.141592, as well as more precise values of pi are uncountable. Continuous variables progressively take the values more and more precise- each value from range of descriptive values must exist in order to arrive at the next one. \n",
    "\n",
    "When I drink some water (which I really do sometimes) the volume of my randomly chosen glass is a perfectly continuous variable even if I am not aware of every floating point value of volume that I am swallowing, wich is fine - measurements can always be more precise but I do not have time to think about all of them. Chances are good my drinking example made you thinking about *mixed* variables always having discrete component and continuous component. "
   ]
  },
  {
   "cell_type": "markdown",
   "metadata": {},
   "source": [
    "### Binomial Distribution\n",
    "\n",
    "The binomial distribution is the probability mass function that describes the likelihood of each possible outcome (eg., 0 heads, 1 head, 2 heads, etc.). The parameters for the binomial distribution are:\n",
    "\n",
    "    n for the number of trials (eg., n=10 if we flip a coin 10 times)\n",
    "    p for the probability of success in each trial (probability of observing a particular outcome in each trial).\n",
    "\n",
    "In this example, p= 0.5 because the probability of observing heads on a fair coin flip is 0.5.\n",
    "####  PMF Probability Mass Function for Discrete Case\n",
    "\n",
    "For discrete variable its distribution is called a probability mass function, and it describes how discrete variable should behave.\n",
    "\n",
    "Davidson-Pilon, Cameron. Bayesian Methods for Hackers (Addison-Wesley Data & Analytics) (p. 34). Pearson Education. Kindle Edition. \n",
    "Let’s say we flip a fair coin 10 times. Below is the code to compute probablity of observing one value of interest (heads) using probability mass function and find the probability of observing a range of values for a discrete random variable.\n",
    "We get the probability of getting between 2 and 4 heads. We can visualize this scenario below."
   ]
  },
  {
   "cell_type": "code",
   "execution_count": 20,
   "metadata": {
    "scrolled": true
   },
   "outputs": [
    {
     "name": "stdout",
     "output_type": "stream",
     "text": [
      "[0.0009765625, 0.009765625000000002, 0.04394531250000004, 0.1171875, 0.2050781249999999, 0.24609375000000003, 0.2050781249999999, 0.11718749999999999, 0.04394531249999997, 0.009765625000000002]\n"
     ]
    },
    {
     "data": {
      "text/plain": [
       "[<matplotlib.lines.Line2D at 0x15570da0470>]"
      ]
     },
     "execution_count": 20,
     "metadata": {},
     "output_type": "execute_result"
    },
    {
     "data": {
      "image/png": "[encoded data removed]",
      "text/plain": [
       "<Figure size 432x288 with 1 Axes>"
      ]
     },
     "metadata": {
      "needs_background": "light"
     },
     "output_type": "display_data"
    }
   ],
   "source": [
    "# import necessary library\n",
    "import scipy.stats as stats\n",
    "import numpy as np\n",
    "\n",
    "from scipy.stats import norm\n",
    "\n",
    "import matplotlib.pyplot as plt\n",
    "\n",
    "fig, ax = plt.subplots(1, 1)\n",
    "# value of interest is the number of heads I can get\n",
    "x = 5 \n",
    "# number of trows, probability of success\n",
    "n, p = 10, 0.5\n",
    "stats.binom.pmf(x, n, p)  # 0.24609375000000003\n",
    "_cumulative_pmf = [stats.binom.pmf(i,n,p) for i in range(10)]\n",
    "print(_cumulative_pmf)\n",
    "ax.plot(range(10), _cumulative_pmf, 'k-', lw=2, label='pdf')\n",
    "\n",
    "ax.plot(range(2,5), _cumulative_pmf[2:5], 'r-', lw=5, label='pdf')"
   ]
  },
  {
   "cell_type": "markdown",
   "metadata": {},
   "source": [
    "We can calculate the probability of observing 3 successes (heads in this case) using the **following equation**:\n",
    "\n",
    "`P(2<=heads<=4heads)=P(X=2)+P(X=3)+P(X=4)`\n",
    "\n",
    "P(2to4heads)=0.0439 + 0.1172 + 0.2051 = 0.3662\n",
    "The probability of between 2 and 4 Heads : 36.62%\n",
    "\n",
    "**Or Python**\n",
    "```python\n",
    "import scipy.stats as stats\n",
    " \n",
    "# calculating P(2<=heads<=4heads) for flipping a coin 10 times\n",
    "print(sum([stats.binom.pmf(i, n=10, p=.5) for i in [2,3,4]])) # 0.36621093749999994\n",
    "``` \n",
    "pmf for many possible values of interest \n",
    "# calculate P(0<=heads<=8 heads) for 10 flips\n",
    "print(sum([stats.binom.pmf(i, n=10, p=.5) for i in range(0,9)]))\n",
    "Instead, we can also use the fact that the sum of the probabilities for all possible values is equal to 1:\n",
    "\n"
   ]
  },
  {
   "cell_type": "code",
   "execution_count": 6,
   "metadata": {},
   "outputs": [
    {
     "name": "stdout",
     "output_type": "stream",
     "text": [
      "0.36621093749999994\n"
     ]
    }
   ],
   "source": [
    "import scipy.stats as stats\n",
    "print(sum([stats.binom.pmf(i, n=10, p=.5) for i in [2,3,4]]))\n"
   ]
  },
  {
   "cell_type": "markdown",
   "metadata": {},
   "source": [
    "# PDF for Continuous Case\n",
    "\n",
    "A continuous random variable has a probability density function wich is different from pmf since it can compute probability of getting any positive values, including non-integral 3.14.\n",
    "\n",
    "Davidson-Pilon, Cameron. Bayesian Methods for Hackers (Addison-Wesley Data & Analytics) (p. 36). Pearson Education. Kindle Edition. "
   ]
  },
  {
   "cell_type": "markdown",
   "metadata": {},
   "source": [
    "### Uniform Distribution"
   ]
  },
  {
   "cell_type": "code",
   "execution_count": 1,
   "metadata": {},
   "outputs": [],
   "source": [
    "%matplotlib inline\n",
    "import matplotlib.pyplot as plt\n",
    "from IPython.display import Math, Latex\n",
    "from IPython.core.display import Image\n",
    "import seaborn as sns"
   ]
  },
  {
   "cell_type": "code",
   "execution_count": 4,
   "metadata": {},
   "outputs": [
    {
     "data": {
      "image/png": "[encoded data removed]",
      "text/plain": [
       "<Figure size 432x288 with 1 Axes>"
      ]
     },
     "metadata": {
      "needs_background": "light"
     },
     "output_type": "display_data"
    }
   ],
   "source": [
    "from scipy.stats import uniform\n",
    "n, start, width = 1000, 10, 20\n",
    "uni_data = uniform.rvs(size=n, loc = start, scale = width)\n",
    "ax = sns.distplot(uni_data, bins = 100, kde = True, hist_kws={\"linewidth\":15, 'alpha':1}\n",
    "    )"
   ]
  },
  {
   "cell_type": "markdown",
   "metadata": {},
   "source": [
    "### Normal Distribution\n",
    "Gaussian distribution (as it is also called) is attributed to several measues for stuff around, it's  everywhere: weight of apples of same variety, height of people you stumble upon daily. The values that that registered for these attributes are normally distributed: can take on any real number but the value is ofther close to average(mean).\n",
    "\n",
    "A pymc library wich gives you access to all kind of distributions: <https://www.pymc.io/projects/docs/en/stable/api/distributions.html>.\n",
    "\n",
    "If a distribution of values occillates around an average then it is normal distribution.\n",
    "Normal distribution is of continuous type and is opposed to uniform distribution.\n",
    "```python\n",
    "import matplotlib.pyplot as plt\n",
    "import numpy as np\n",
    "import arviz as az\n",
    "plt.style.use('arviz-darkgrid')\n",
    "x = np.linspace(-3, 3, 500)\n",
    "ls = [0., -2]\n",
    "us = [2., 1]\n",
    "for l, u in zip(ls, us):\n",
    "    y = np.zeros(500)\n",
    "    y[(x<u) & (x>l)] = 1.0/(u-l)\n",
    "    plt.plot(x, y, label='lower = {}, upper = {}'.format(l, u))\n",
    "plt.xlabel('x', fontsize=12)\n",
    "plt.ylabel('f(x)', fontsize=12)\n",
    "plt.ylim(0, 1)\n",
    "plt.legend(loc=1)\n",
    "plt.show()\n",
    "\n",
    "```"
   ]
  },
  {
   "cell_type": "code",
   "execution_count": null,
   "metadata": {},
   "outputs": [],
   "source": [
    "### "
   ]
  },
  {
   "cell_type": "markdown",
   "metadata": {},
   "source": [
    "### References\n",
    "1. <https://towardsdatascience.com/seven-must-know-statistical-distributions-and-their-simulations-for-data-science-681c5ac41e32>\n",
    "    \n",
    "2. Davidson-Pilon, Cameron. Bayesian Methods for Hackers (Addison-Wesley Data & Analytics) (p. 35). Pearson Education. Kindle Edition. \n",
    "\n",
    "3. <https://en.wikipedia.org/wiki/List_of_probability_distributions>"
   ]
  },
  {
   "cell_type": "code",
   "execution_count": null,
   "metadata": {},
   "outputs": [],
   "source": []
  }
 ],
 "metadata": {
  "kernelspec": {
   "display_name": "Python 3",
   "language": "python",
   "name": "python3"
  },
  "language_info": {
   "codemirror_mode": {
    "name": "ipython",
    "version": 3
   },
   "file_extension": ".py",
   "mimetype": "text/x-python",
   "name": "python",
   "nbconvert_exporter": "python",
   "pygments_lexer": "ipython3",
   "version": "3.7.3"
  }
 },
 "nbformat": 4,
 "nbformat_minor": 2
}
