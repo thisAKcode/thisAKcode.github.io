{
 "cells": [
  {
   "cell_type": "markdown",
   "metadata": {},
   "source": [
    "- title: My First Converted Jupyter notebook\n",
    "- author: Alex\n",
    "- date: 2022-03-07\n",
    "- category: python \n",
    "- tags: jupyter"
   ]
  },
  {
   "cell_type": "markdown",
   "metadata": {},
   "source": [
    "### Write Blog Using Jupyter Notebooks and Pelican\n",
    "Here is a quick reviev on how to write blog using Jupyter Notebook and python module pelican-jupyter. Not so much to write about, pelican-jupyter's docs are great. They may be read here: <https://github.com/danielfrg/pelican-jupyter>."
   ]
  },
  {
   "cell_type": "code",
   "execution_count": 8,
   "metadata": {},
   "outputs": [
    {
     "name": "stdout",
     "output_type": "stream",
     "text": [
      "[[-0.0269058   0.39160873  0.17928672]\n",
      " [ 0.24797966 -0.39697382 -0.35499573]\n",
      " [ 0.30967847  0.32730359  0.30842749]\n",
      " [ 0.1528266   0.49989816  0.34428994]\n",
      " [ 0.29634302 -0.21905434  0.18902373]\n",
      " [-0.34851145 -0.12763465  0.26871769]\n",
      " [-0.3859855  -0.26051812  0.16394675]\n",
      " [ 0.03022932 -0.00579362 -0.55509157]\n",
      " [-0.29696686 -0.37009246 -0.39711054]\n",
      " [ 0.02131254  0.16125654 -0.14649449]]\n"
     ]
    }
   ],
   "source": [
    "import numpy as np\n",
    "\n",
    "# Rule 1\n",
    "a = np.arange(3)\n",
    "M = np.ones((2, 3))\n",
    "\n",
    "#Rule 1 & 2\n",
    "a = np.arange(3).reshape((3, 1))  \n",
    "b = np.arange(3)  # [0 1 2]\n",
    "\"\"\"\n",
    "a is:\n",
    "[[0]\n",
    " [1]\n",
    " [2]]\n",
    "\"\"\"\n",
    "\n",
    "a + b\n",
    "#  array([[0, 1, 2],  [1, 2, 3],  [2, 3, 4]])\n",
    "\n",
    "\n",
    "#Example 3\n",
    "#Rule 3\n",
    "\n",
    "M = np.ones((3, 2)) \n",
    "a = np.arange(3)\n",
    "\n",
    "shp_M = (3, 2) \n",
    "shp_a = (3,)\n",
    "#rule 1 pad the shape of a with ones at its leading side: a.shape -> (1, 3)\n",
    "\n",
    "\n",
    "# Example 3 workaround\n",
    "\n",
    "# reshaping the array with right side padding\n",
    "\n",
    "M=np.ones((3, 2))\n",
    "a=np.arange(3)\n",
    "b=a[:,np.newaxis]\n",
    "\n",
    "# shape of a, a.shape>>> (3,)\n",
    "# shape of b, b.shape >>>  (3,1)\n",
    "\n",
    "# Practical broadcasting\n",
    "\n",
    "## 1. Centering an array: compute mean across first axis\n",
    "\n",
    "\n",
    "X = np.random.random((10, 3))\n",
    "\n",
    "Xmean = X.mean(0)\n",
    "# array([ 0.53514715, 0.66567217, 0.44385899])\n",
    "Xcentered = X -Xmean\n",
    "print(Xcentered)"
   ]
  }
 ],
 "metadata": {
  "kernelspec": {
   "display_name": "Python 3",
   "language": "python",
   "name": "python3"
  },
  "language_info": {
   "codemirror_mode": {
    "name": "ipython",
    "version": 3
   },
   "file_extension": ".py",
   "mimetype": "text/x-python",
   "name": "python",
   "nbconvert_exporter": "python",
   "pygments_lexer": "ipython3",
   "version": "3.7.3"
  }
 },
 "nbformat": 4,
 "nbformat_minor": 2
}
