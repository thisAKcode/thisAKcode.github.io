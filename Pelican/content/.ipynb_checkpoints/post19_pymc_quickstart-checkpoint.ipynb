{
 "cells": [
  {
   "cell_type": "markdown",
   "metadata": {},
   "source": [
    "- title: Jump In pymc\n",
    "- author: Alex\n",
    "- date: 2022-07-10\n",
    "- category: python"
   ]
  },
  {
   "cell_type": "markdown",
   "metadata": {},
   "source": [
    "### Install\n",
    "To simply install pymc was not enough on my computer, neither on Google Colab it worked to simply use library after `!pip install`. Apparently my laptop hadn't a working fortran of C compiler- the message that I got was:\n",
    "`Aesara will be unable to compile C-implementations and will default to Python. Performance may be severely degraded. To remove this warning, set Aesara flags cxx to an empty string.` \n",
    "\n",
    "To be able to run pymc on Windows I needed to use miniconda and then open up Anaconda Prompt and execute `conda install -c conda-forge pymc `. Installation took me 20 minutes."
   ]
  },
  {
   "cell_type": "markdown",
   "metadata": {},
   "source": [
    "### First example\n",
    "First code snippet is pulled from official documentation to the version of pymc, data was included in installation of pymc module:\n",
    "<https://www.pymc.io/projects/examples/en/latest/case_studies/log-gaussian-cox-process.html>"
   ]
  },
  {
   "cell_type": "code",
   "execution_count": 9,
   "metadata": {},
   "outputs": [
    {
     "name": "stdout",
     "output_type": "stream",
     "text": [
      "231\n"
     ]
    }
   ],
   "source": [
    "import pymc as pm\n",
    "import pandas as pd\n",
    "from itertools import product\n",
    "\n",
    "import arviz as az\n",
    "data = pd.read_csv(pm.get_data(\"anemones.csv\"))\n",
    "n = data.shape[0]\n"
   ]
  },
  {
   "cell_type": "markdown",
   "metadata": {},
   "source": [
    "### Sources\n",
    "-article 1 <https://jakevdp.github.io/blog/2014/06/14/frequentism-and-bayesianism-4-bayesian-in-python/>\n",
    "-article 2 <https://github.com/CamDavidsonPilon/Probabilistic-Programming-and-Bayesian-Methods-for-Hackers>"
   ]
  },
  {
   "cell_type": "markdown",
   "metadata": {},
   "source": [
    "C:\\книги_питон\\Bayes' Theorem Examples_ A Visual Introduction For Beginners - Dan Morris & Mark Koning.pdf"
   ]
  }
 ],
 "metadata": {
  "kernelspec": {
   "display_name": "Python 3",
   "language": "python",
   "name": "python3"
  },
  "language_info": {
   "codemirror_mode": {
    "name": "ipython",
    "version": 3
   },
   "file_extension": ".py",
   "mimetype": "text/x-python",
   "name": "python",
   "nbconvert_exporter": "python",
   "pygments_lexer": "ipython3",
   "version": "3.7.3"
  },
  "vscode": {
   "interpreter": {
    "hash": "5109d816b82be14675a6b11f8e0f0d2e80f029176ed3710d54e125caa8520dfd"
   }
  }
 },
 "nbformat": 4,
 "nbformat_minor": 2
}
